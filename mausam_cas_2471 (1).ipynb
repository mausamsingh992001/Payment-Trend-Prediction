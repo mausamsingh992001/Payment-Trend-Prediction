{
  "nbformat": 4,
  "nbformat_minor": 0,
  "metadata": {
    "colab": {
      "name": "mausam_cas_2471.ipynb",
      "provenance": [],
      "collapsed_sections": []
    },
    "kernelspec": {
      "name": "python3",
      "display_name": "Python 3"
    },
    "language_info": {
      "name": "python"
    }
  },
  "cells": [
    {
      "cell_type": "code",
      "execution_count": null,
      "metadata": {
        "id": "OHlfDKqJD2t7"
      },
      "outputs": [],
      "source": [
        "import pandas as pd\n",
        "import numpy as np\n",
        "import matplotlib.pyplot as plt\n",
        "import seaborn as sns\n",
        "import datetime\n",
        "from datetime import datetime"
      ]
    },
    {
      "cell_type": "code",
      "source": [
        "data = pd.read_csv('/content/trainData.csv')\n",
        "data"
      ],
      "metadata": {
        "colab": {
          "base_uri": "https://localhost:8080/",
          "height": 423
        },
        "id": "r4Gd2aEGEJGu",
        "outputId": "6b511f5e-cd35-4623-8e3a-44063c69bd2a"
      },
      "execution_count": null,
      "outputs": [
        {
          "output_type": "execute_result",
          "data": {
            "text/plain": [
              "             Description        Vendor_Name           Created Invoice_Date  \\\n",
              "0          Milk x 7 ltrs       David Taylor  26-04-2011 11:50    26-Apr-11   \n",
              "1     Office Stationery   Stephen Wright MD  24-05-2011 09:40    24-May-11   \n",
              "2         Milk x 10 ltrs       Mark Cordova  24-05-2011 12:56    24-Mar-11   \n",
              "3             Annual Fee     Kimberly White  09-07-2011 10:42    10-May-11   \n",
              "4                    NaN    Teresa Marshall  05-09-2011 20:55    05-Sep-11   \n",
              "...                  ...                ...               ...          ...   \n",
              "8748                 NaN         Amy Sawyer  31-10-2017 14:40    29-Sep-17   \n",
              "8749                 NaN    Edward Santiago  31-10-2017 14:44    29-Sep-17   \n",
              "8750                 NaN      Angela Becker  31-10-2017 22:07    31-Oct-17   \n",
              "8751                 NaN        Anna Carter  02-11-2017 10:51    23-Oct-17   \n",
              "8752                 NaN        James Ayala  06-11-2017 10:01    05-Nov-17   \n",
              "\n",
              "       Due_Date   Amount  Settled  Outstanding  Number_of_Days_until_Payment  \n",
              "0     26-May-11   672.78   672.78          0.0                            13  \n",
              "1     23-Jun-11  5101.98  5101.98          0.0                            38  \n",
              "2     23-Apr-11  7422.78  7422.78          0.0                            61  \n",
              "3     24-May-11    11.98    11.98          0.0                            62  \n",
              "4     06-Sep-11  5501.98  5501.98          0.0                             2  \n",
              "...         ...      ...      ...          ...                           ...  \n",
              "8748  29-Oct-17   551.98   551.98          0.0                            34  \n",
              "8749  29-Oct-17   386.98   386.98          0.0                            34  \n",
              "8750  01-Nov-17   279.81   279.81          0.0                             5  \n",
              "8751  06-Nov-17   145.98   145.98          0.0                            10  \n",
              "8752  05-Dec-17   169.98   169.98          0.0                             1  \n",
              "\n",
              "[8753 rows x 9 columns]"
            ],
            "text/html": [
              "\n",
              "  <div id=\"df-d918db03-6770-415f-8c6c-bca3e691426f\">\n",
              "    <div class=\"colab-df-container\">\n",
              "      <div>\n",
              "<style scoped>\n",
              "    .dataframe tbody tr th:only-of-type {\n",
              "        vertical-align: middle;\n",
              "    }\n",
              "\n",
              "    .dataframe tbody tr th {\n",
              "        vertical-align: top;\n",
              "    }\n",
              "\n",
              "    .dataframe thead th {\n",
              "        text-align: right;\n",
              "    }\n",
              "</style>\n",
              "<table border=\"1\" class=\"dataframe\">\n",
              "  <thead>\n",
              "    <tr style=\"text-align: right;\">\n",
              "      <th></th>\n",
              "      <th>Description</th>\n",
              "      <th>Vendor_Name</th>\n",
              "      <th>Created</th>\n",
              "      <th>Invoice_Date</th>\n",
              "      <th>Due_Date</th>\n",
              "      <th>Amount</th>\n",
              "      <th>Settled</th>\n",
              "      <th>Outstanding</th>\n",
              "      <th>Number_of_Days_until_Payment</th>\n",
              "    </tr>\n",
              "  </thead>\n",
              "  <tbody>\n",
              "    <tr>\n",
              "      <th>0</th>\n",
              "      <td>Milk x 7 ltrs</td>\n",
              "      <td>David Taylor</td>\n",
              "      <td>26-04-2011 11:50</td>\n",
              "      <td>26-Apr-11</td>\n",
              "      <td>26-May-11</td>\n",
              "      <td>672.78</td>\n",
              "      <td>672.78</td>\n",
              "      <td>0.0</td>\n",
              "      <td>13</td>\n",
              "    </tr>\n",
              "    <tr>\n",
              "      <th>1</th>\n",
              "      <td>Office Stationery</td>\n",
              "      <td>Stephen Wright MD</td>\n",
              "      <td>24-05-2011 09:40</td>\n",
              "      <td>24-May-11</td>\n",
              "      <td>23-Jun-11</td>\n",
              "      <td>5101.98</td>\n",
              "      <td>5101.98</td>\n",
              "      <td>0.0</td>\n",
              "      <td>38</td>\n",
              "    </tr>\n",
              "    <tr>\n",
              "      <th>2</th>\n",
              "      <td>Milk x 10 ltrs</td>\n",
              "      <td>Mark Cordova</td>\n",
              "      <td>24-05-2011 12:56</td>\n",
              "      <td>24-Mar-11</td>\n",
              "      <td>23-Apr-11</td>\n",
              "      <td>7422.78</td>\n",
              "      <td>7422.78</td>\n",
              "      <td>0.0</td>\n",
              "      <td>61</td>\n",
              "    </tr>\n",
              "    <tr>\n",
              "      <th>3</th>\n",
              "      <td>Annual Fee</td>\n",
              "      <td>Kimberly White</td>\n",
              "      <td>09-07-2011 10:42</td>\n",
              "      <td>10-May-11</td>\n",
              "      <td>24-May-11</td>\n",
              "      <td>11.98</td>\n",
              "      <td>11.98</td>\n",
              "      <td>0.0</td>\n",
              "      <td>62</td>\n",
              "    </tr>\n",
              "    <tr>\n",
              "      <th>4</th>\n",
              "      <td>NaN</td>\n",
              "      <td>Teresa Marshall</td>\n",
              "      <td>05-09-2011 20:55</td>\n",
              "      <td>05-Sep-11</td>\n",
              "      <td>06-Sep-11</td>\n",
              "      <td>5501.98</td>\n",
              "      <td>5501.98</td>\n",
              "      <td>0.0</td>\n",
              "      <td>2</td>\n",
              "    </tr>\n",
              "    <tr>\n",
              "      <th>...</th>\n",
              "      <td>...</td>\n",
              "      <td>...</td>\n",
              "      <td>...</td>\n",
              "      <td>...</td>\n",
              "      <td>...</td>\n",
              "      <td>...</td>\n",
              "      <td>...</td>\n",
              "      <td>...</td>\n",
              "      <td>...</td>\n",
              "    </tr>\n",
              "    <tr>\n",
              "      <th>8748</th>\n",
              "      <td>NaN</td>\n",
              "      <td>Amy Sawyer</td>\n",
              "      <td>31-10-2017 14:40</td>\n",
              "      <td>29-Sep-17</td>\n",
              "      <td>29-Oct-17</td>\n",
              "      <td>551.98</td>\n",
              "      <td>551.98</td>\n",
              "      <td>0.0</td>\n",
              "      <td>34</td>\n",
              "    </tr>\n",
              "    <tr>\n",
              "      <th>8749</th>\n",
              "      <td>NaN</td>\n",
              "      <td>Edward Santiago</td>\n",
              "      <td>31-10-2017 14:44</td>\n",
              "      <td>29-Sep-17</td>\n",
              "      <td>29-Oct-17</td>\n",
              "      <td>386.98</td>\n",
              "      <td>386.98</td>\n",
              "      <td>0.0</td>\n",
              "      <td>34</td>\n",
              "    </tr>\n",
              "    <tr>\n",
              "      <th>8750</th>\n",
              "      <td>NaN</td>\n",
              "      <td>Angela Becker</td>\n",
              "      <td>31-10-2017 22:07</td>\n",
              "      <td>31-Oct-17</td>\n",
              "      <td>01-Nov-17</td>\n",
              "      <td>279.81</td>\n",
              "      <td>279.81</td>\n",
              "      <td>0.0</td>\n",
              "      <td>5</td>\n",
              "    </tr>\n",
              "    <tr>\n",
              "      <th>8751</th>\n",
              "      <td>NaN</td>\n",
              "      <td>Anna Carter</td>\n",
              "      <td>02-11-2017 10:51</td>\n",
              "      <td>23-Oct-17</td>\n",
              "      <td>06-Nov-17</td>\n",
              "      <td>145.98</td>\n",
              "      <td>145.98</td>\n",
              "      <td>0.0</td>\n",
              "      <td>10</td>\n",
              "    </tr>\n",
              "    <tr>\n",
              "      <th>8752</th>\n",
              "      <td>NaN</td>\n",
              "      <td>James Ayala</td>\n",
              "      <td>06-11-2017 10:01</td>\n",
              "      <td>05-Nov-17</td>\n",
              "      <td>05-Dec-17</td>\n",
              "      <td>169.98</td>\n",
              "      <td>169.98</td>\n",
              "      <td>0.0</td>\n",
              "      <td>1</td>\n",
              "    </tr>\n",
              "  </tbody>\n",
              "</table>\n",
              "<p>8753 rows × 9 columns</p>\n",
              "</div>\n",
              "      <button class=\"colab-df-convert\" onclick=\"convertToInteractive('df-d918db03-6770-415f-8c6c-bca3e691426f')\"\n",
              "              title=\"Convert this dataframe to an interactive table.\"\n",
              "              style=\"display:none;\">\n",
              "        \n",
              "  <svg xmlns=\"http://www.w3.org/2000/svg\" height=\"24px\"viewBox=\"0 0 24 24\"\n",
              "       width=\"24px\">\n",
              "    <path d=\"M0 0h24v24H0V0z\" fill=\"none\"/>\n",
              "    <path d=\"M18.56 5.44l.94 2.06.94-2.06 2.06-.94-2.06-.94-.94-2.06-.94 2.06-2.06.94zm-11 1L8.5 8.5l.94-2.06 2.06-.94-2.06-.94L8.5 2.5l-.94 2.06-2.06.94zm10 10l.94 2.06.94-2.06 2.06-.94-2.06-.94-.94-2.06-.94 2.06-2.06.94z\"/><path d=\"M17.41 7.96l-1.37-1.37c-.4-.4-.92-.59-1.43-.59-.52 0-1.04.2-1.43.59L10.3 9.45l-7.72 7.72c-.78.78-.78 2.05 0 2.83L4 21.41c.39.39.9.59 1.41.59.51 0 1.02-.2 1.41-.59l7.78-7.78 2.81-2.81c.8-.78.8-2.07 0-2.86zM5.41 20L4 18.59l7.72-7.72 1.47 1.35L5.41 20z\"/>\n",
              "  </svg>\n",
              "      </button>\n",
              "      \n",
              "  <style>\n",
              "    .colab-df-container {\n",
              "      display:flex;\n",
              "      flex-wrap:wrap;\n",
              "      gap: 12px;\n",
              "    }\n",
              "\n",
              "    .colab-df-convert {\n",
              "      background-color: #E8F0FE;\n",
              "      border: none;\n",
              "      border-radius: 50%;\n",
              "      cursor: pointer;\n",
              "      display: none;\n",
              "      fill: #1967D2;\n",
              "      height: 32px;\n",
              "      padding: 0 0 0 0;\n",
              "      width: 32px;\n",
              "    }\n",
              "\n",
              "    .colab-df-convert:hover {\n",
              "      background-color: #E2EBFA;\n",
              "      box-shadow: 0px 1px 2px rgba(60, 64, 67, 0.3), 0px 1px 3px 1px rgba(60, 64, 67, 0.15);\n",
              "      fill: #174EA6;\n",
              "    }\n",
              "\n",
              "    [theme=dark] .colab-df-convert {\n",
              "      background-color: #3B4455;\n",
              "      fill: #D2E3FC;\n",
              "    }\n",
              "\n",
              "    [theme=dark] .colab-df-convert:hover {\n",
              "      background-color: #434B5C;\n",
              "      box-shadow: 0px 1px 3px 1px rgba(0, 0, 0, 0.15);\n",
              "      filter: drop-shadow(0px 1px 2px rgba(0, 0, 0, 0.3));\n",
              "      fill: #FFFFFF;\n",
              "    }\n",
              "  </style>\n",
              "\n",
              "      <script>\n",
              "        const buttonEl =\n",
              "          document.querySelector('#df-d918db03-6770-415f-8c6c-bca3e691426f button.colab-df-convert');\n",
              "        buttonEl.style.display =\n",
              "          google.colab.kernel.accessAllowed ? 'block' : 'none';\n",
              "\n",
              "        async function convertToInteractive(key) {\n",
              "          const element = document.querySelector('#df-d918db03-6770-415f-8c6c-bca3e691426f');\n",
              "          const dataTable =\n",
              "            await google.colab.kernel.invokeFunction('convertToInteractive',\n",
              "                                                     [key], {});\n",
              "          if (!dataTable) return;\n",
              "\n",
              "          const docLinkHtml = 'Like what you see? Visit the ' +\n",
              "            '<a target=\"_blank\" href=https://colab.research.google.com/notebooks/data_table.ipynb>data table notebook</a>'\n",
              "            + ' to learn more about interactive tables.';\n",
              "          element.innerHTML = '';\n",
              "          dataTable['output_type'] = 'display_data';\n",
              "          await google.colab.output.renderOutput(dataTable, element);\n",
              "          const docLink = document.createElement('div');\n",
              "          docLink.innerHTML = docLinkHtml;\n",
              "          element.appendChild(docLink);\n",
              "        }\n",
              "      </script>\n",
              "    </div>\n",
              "  </div>\n",
              "  "
            ]
          },
          "metadata": {},
          "execution_count": 2
        }
      ]
    },
    {
      "cell_type": "code",
      "source": [
        "datatest = pd.read_csv('/content/testData.csv')\n",
        "datatest"
      ],
      "metadata": {
        "colab": {
          "base_uri": "https://localhost:8080/",
          "height": 423
        },
        "id": "t8xXj8ehbAc1",
        "outputId": "25447b88-0f6a-494e-9987-e2fa0fb1858e"
      },
      "execution_count": null,
      "outputs": [
        {
          "output_type": "execute_result",
          "data": {
            "text/plain": [
              "     Description        Vendor_Name           Created Invoice_Date   Due_Date  \\\n",
              "0     Annual Fee      Aaron Hoffman  26-11-2015 12:38    30-Nov-15  30-Dec-15   \n",
              "1            NaN       Aaron Murphy  27-10-2016 10:35    06-Sep-16  06-Oct-16   \n",
              "2            NaN        Aaron Parks  29-02-2016 00:53    29-Feb-16  14-Mar-16   \n",
              "3            NaN       Aaron Thomas  27-08-2013 18:46    23-Aug-13  06-Sep-13   \n",
              "4            NaN  Abigail Hernandez  16-05-2017 16:48    10-May-17  09-Jun-17   \n",
              "...          ...                ...               ...          ...        ...   \n",
              "1120         NaN    Zachary Coleman  31-08-2016 13:09    29-Aug-16  12-Sep-16   \n",
              "1121         NaN     Zachary Dudley  28-07-2014 10:43    28-Jul-14  04-Aug-14   \n",
              "1122         NaN  Zachary Hernandez  05-09-2017 10:14    02-Sep-17  06-Sep-17   \n",
              "1123         NaN    Zachary Simmons  02-01-2015 13:53    02-Jan-15  01-Feb-15   \n",
              "1124         NaN   Zachary Williams  19-05-2016 09:41    06-May-16  05-Jun-16   \n",
              "\n",
              "       Amount  Settled  Outstanding  \n",
              "0       11.98    11.98          0.0  \n",
              "1       56.98    56.98          0.0  \n",
              "2       61.98    61.98          0.0  \n",
              "3      674.30   674.30          0.0  \n",
              "4      302.94   302.94          0.0  \n",
              "...       ...      ...          ...  \n",
              "1120  4201.98  4201.98          0.0  \n",
              "1121    93.18    93.18          0.0  \n",
              "1122  1255.98  1255.98          0.0  \n",
              "1123   678.78    58.38        620.4  \n",
              "1124    61.98    61.98          0.0  \n",
              "\n",
              "[1125 rows x 8 columns]"
            ],
            "text/html": [
              "\n",
              "  <div id=\"df-fb154e32-810d-4a41-9e50-fd7833136d77\">\n",
              "    <div class=\"colab-df-container\">\n",
              "      <div>\n",
              "<style scoped>\n",
              "    .dataframe tbody tr th:only-of-type {\n",
              "        vertical-align: middle;\n",
              "    }\n",
              "\n",
              "    .dataframe tbody tr th {\n",
              "        vertical-align: top;\n",
              "    }\n",
              "\n",
              "    .dataframe thead th {\n",
              "        text-align: right;\n",
              "    }\n",
              "</style>\n",
              "<table border=\"1\" class=\"dataframe\">\n",
              "  <thead>\n",
              "    <tr style=\"text-align: right;\">\n",
              "      <th></th>\n",
              "      <th>Description</th>\n",
              "      <th>Vendor_Name</th>\n",
              "      <th>Created</th>\n",
              "      <th>Invoice_Date</th>\n",
              "      <th>Due_Date</th>\n",
              "      <th>Amount</th>\n",
              "      <th>Settled</th>\n",
              "      <th>Outstanding</th>\n",
              "    </tr>\n",
              "  </thead>\n",
              "  <tbody>\n",
              "    <tr>\n",
              "      <th>0</th>\n",
              "      <td>Annual Fee</td>\n",
              "      <td>Aaron Hoffman</td>\n",
              "      <td>26-11-2015 12:38</td>\n",
              "      <td>30-Nov-15</td>\n",
              "      <td>30-Dec-15</td>\n",
              "      <td>11.98</td>\n",
              "      <td>11.98</td>\n",
              "      <td>0.0</td>\n",
              "    </tr>\n",
              "    <tr>\n",
              "      <th>1</th>\n",
              "      <td>NaN</td>\n",
              "      <td>Aaron Murphy</td>\n",
              "      <td>27-10-2016 10:35</td>\n",
              "      <td>06-Sep-16</td>\n",
              "      <td>06-Oct-16</td>\n",
              "      <td>56.98</td>\n",
              "      <td>56.98</td>\n",
              "      <td>0.0</td>\n",
              "    </tr>\n",
              "    <tr>\n",
              "      <th>2</th>\n",
              "      <td>NaN</td>\n",
              "      <td>Aaron Parks</td>\n",
              "      <td>29-02-2016 00:53</td>\n",
              "      <td>29-Feb-16</td>\n",
              "      <td>14-Mar-16</td>\n",
              "      <td>61.98</td>\n",
              "      <td>61.98</td>\n",
              "      <td>0.0</td>\n",
              "    </tr>\n",
              "    <tr>\n",
              "      <th>3</th>\n",
              "      <td>NaN</td>\n",
              "      <td>Aaron Thomas</td>\n",
              "      <td>27-08-2013 18:46</td>\n",
              "      <td>23-Aug-13</td>\n",
              "      <td>06-Sep-13</td>\n",
              "      <td>674.30</td>\n",
              "      <td>674.30</td>\n",
              "      <td>0.0</td>\n",
              "    </tr>\n",
              "    <tr>\n",
              "      <th>4</th>\n",
              "      <td>NaN</td>\n",
              "      <td>Abigail Hernandez</td>\n",
              "      <td>16-05-2017 16:48</td>\n",
              "      <td>10-May-17</td>\n",
              "      <td>09-Jun-17</td>\n",
              "      <td>302.94</td>\n",
              "      <td>302.94</td>\n",
              "      <td>0.0</td>\n",
              "    </tr>\n",
              "    <tr>\n",
              "      <th>...</th>\n",
              "      <td>...</td>\n",
              "      <td>...</td>\n",
              "      <td>...</td>\n",
              "      <td>...</td>\n",
              "      <td>...</td>\n",
              "      <td>...</td>\n",
              "      <td>...</td>\n",
              "      <td>...</td>\n",
              "    </tr>\n",
              "    <tr>\n",
              "      <th>1120</th>\n",
              "      <td>NaN</td>\n",
              "      <td>Zachary Coleman</td>\n",
              "      <td>31-08-2016 13:09</td>\n",
              "      <td>29-Aug-16</td>\n",
              "      <td>12-Sep-16</td>\n",
              "      <td>4201.98</td>\n",
              "      <td>4201.98</td>\n",
              "      <td>0.0</td>\n",
              "    </tr>\n",
              "    <tr>\n",
              "      <th>1121</th>\n",
              "      <td>NaN</td>\n",
              "      <td>Zachary Dudley</td>\n",
              "      <td>28-07-2014 10:43</td>\n",
              "      <td>28-Jul-14</td>\n",
              "      <td>04-Aug-14</td>\n",
              "      <td>93.18</td>\n",
              "      <td>93.18</td>\n",
              "      <td>0.0</td>\n",
              "    </tr>\n",
              "    <tr>\n",
              "      <th>1122</th>\n",
              "      <td>NaN</td>\n",
              "      <td>Zachary Hernandez</td>\n",
              "      <td>05-09-2017 10:14</td>\n",
              "      <td>02-Sep-17</td>\n",
              "      <td>06-Sep-17</td>\n",
              "      <td>1255.98</td>\n",
              "      <td>1255.98</td>\n",
              "      <td>0.0</td>\n",
              "    </tr>\n",
              "    <tr>\n",
              "      <th>1123</th>\n",
              "      <td>NaN</td>\n",
              "      <td>Zachary Simmons</td>\n",
              "      <td>02-01-2015 13:53</td>\n",
              "      <td>02-Jan-15</td>\n",
              "      <td>01-Feb-15</td>\n",
              "      <td>678.78</td>\n",
              "      <td>58.38</td>\n",
              "      <td>620.4</td>\n",
              "    </tr>\n",
              "    <tr>\n",
              "      <th>1124</th>\n",
              "      <td>NaN</td>\n",
              "      <td>Zachary Williams</td>\n",
              "      <td>19-05-2016 09:41</td>\n",
              "      <td>06-May-16</td>\n",
              "      <td>05-Jun-16</td>\n",
              "      <td>61.98</td>\n",
              "      <td>61.98</td>\n",
              "      <td>0.0</td>\n",
              "    </tr>\n",
              "  </tbody>\n",
              "</table>\n",
              "<p>1125 rows × 8 columns</p>\n",
              "</div>\n",
              "      <button class=\"colab-df-convert\" onclick=\"convertToInteractive('df-fb154e32-810d-4a41-9e50-fd7833136d77')\"\n",
              "              title=\"Convert this dataframe to an interactive table.\"\n",
              "              style=\"display:none;\">\n",
              "        \n",
              "  <svg xmlns=\"http://www.w3.org/2000/svg\" height=\"24px\"viewBox=\"0 0 24 24\"\n",
              "       width=\"24px\">\n",
              "    <path d=\"M0 0h24v24H0V0z\" fill=\"none\"/>\n",
              "    <path d=\"M18.56 5.44l.94 2.06.94-2.06 2.06-.94-2.06-.94-.94-2.06-.94 2.06-2.06.94zm-11 1L8.5 8.5l.94-2.06 2.06-.94-2.06-.94L8.5 2.5l-.94 2.06-2.06.94zm10 10l.94 2.06.94-2.06 2.06-.94-2.06-.94-.94-2.06-.94 2.06-2.06.94z\"/><path d=\"M17.41 7.96l-1.37-1.37c-.4-.4-.92-.59-1.43-.59-.52 0-1.04.2-1.43.59L10.3 9.45l-7.72 7.72c-.78.78-.78 2.05 0 2.83L4 21.41c.39.39.9.59 1.41.59.51 0 1.02-.2 1.41-.59l7.78-7.78 2.81-2.81c.8-.78.8-2.07 0-2.86zM5.41 20L4 18.59l7.72-7.72 1.47 1.35L5.41 20z\"/>\n",
              "  </svg>\n",
              "      </button>\n",
              "      \n",
              "  <style>\n",
              "    .colab-df-container {\n",
              "      display:flex;\n",
              "      flex-wrap:wrap;\n",
              "      gap: 12px;\n",
              "    }\n",
              "\n",
              "    .colab-df-convert {\n",
              "      background-color: #E8F0FE;\n",
              "      border: none;\n",
              "      border-radius: 50%;\n",
              "      cursor: pointer;\n",
              "      display: none;\n",
              "      fill: #1967D2;\n",
              "      height: 32px;\n",
              "      padding: 0 0 0 0;\n",
              "      width: 32px;\n",
              "    }\n",
              "\n",
              "    .colab-df-convert:hover {\n",
              "      background-color: #E2EBFA;\n",
              "      box-shadow: 0px 1px 2px rgba(60, 64, 67, 0.3), 0px 1px 3px 1px rgba(60, 64, 67, 0.15);\n",
              "      fill: #174EA6;\n",
              "    }\n",
              "\n",
              "    [theme=dark] .colab-df-convert {\n",
              "      background-color: #3B4455;\n",
              "      fill: #D2E3FC;\n",
              "    }\n",
              "\n",
              "    [theme=dark] .colab-df-convert:hover {\n",
              "      background-color: #434B5C;\n",
              "      box-shadow: 0px 1px 3px 1px rgba(0, 0, 0, 0.15);\n",
              "      filter: drop-shadow(0px 1px 2px rgba(0, 0, 0, 0.3));\n",
              "      fill: #FFFFFF;\n",
              "    }\n",
              "  </style>\n",
              "\n",
              "      <script>\n",
              "        const buttonEl =\n",
              "          document.querySelector('#df-fb154e32-810d-4a41-9e50-fd7833136d77 button.colab-df-convert');\n",
              "        buttonEl.style.display =\n",
              "          google.colab.kernel.accessAllowed ? 'block' : 'none';\n",
              "\n",
              "        async function convertToInteractive(key) {\n",
              "          const element = document.querySelector('#df-fb154e32-810d-4a41-9e50-fd7833136d77');\n",
              "          const dataTable =\n",
              "            await google.colab.kernel.invokeFunction('convertToInteractive',\n",
              "                                                     [key], {});\n",
              "          if (!dataTable) return;\n",
              "\n",
              "          const docLinkHtml = 'Like what you see? Visit the ' +\n",
              "            '<a target=\"_blank\" href=https://colab.research.google.com/notebooks/data_table.ipynb>data table notebook</a>'\n",
              "            + ' to learn more about interactive tables.';\n",
              "          element.innerHTML = '';\n",
              "          dataTable['output_type'] = 'display_data';\n",
              "          await google.colab.output.renderOutput(dataTable, element);\n",
              "          const docLink = document.createElement('div');\n",
              "          docLink.innerHTML = docLinkHtml;\n",
              "          element.appendChild(docLink);\n",
              "        }\n",
              "      </script>\n",
              "    </div>\n",
              "  </div>\n",
              "  "
            ]
          },
          "metadata": {},
          "execution_count": 3
        }
      ]
    },
    {
      "cell_type": "code",
      "source": [
        "data.describe()"
      ],
      "metadata": {
        "colab": {
          "base_uri": "https://localhost:8080/",
          "height": 300
        },
        "id": "tqkA5Oy-ENix",
        "outputId": "4662e606-1a71-4dbc-bbbb-c88a935d8e3d"
      },
      "execution_count": null,
      "outputs": [
        {
          "output_type": "execute_result",
          "data": {
            "text/plain": [
              "             Amount       Settled   Outstanding  Number_of_Days_until_Payment\n",
              "count  8.753000e+03  8.753000e+03   8753.000000                   8753.000000\n",
              "mean   2.320905e+03  2.236365e+03     84.539806                     43.953616\n",
              "std    1.140826e+05  1.140800e+05    791.098158                     28.149191\n",
              "min    1.990000e+00  1.980000e+00      0.000000                    -23.000000\n",
              "25%    8.118000e+01  7.698000e+01      0.000000                     21.000000\n",
              "50%    1.901900e+02  1.819800e+02      0.000000                     42.000000\n",
              "75%    6.019800e+02  5.599800e+02      0.000000                     64.000000\n",
              "max    1.066667e+07  1.066667e+07  27930.000000                    141.000000"
            ],
            "text/html": [
              "\n",
              "  <div id=\"df-6b3faeee-809b-4de5-9480-be957de696cc\">\n",
              "    <div class=\"colab-df-container\">\n",
              "      <div>\n",
              "<style scoped>\n",
              "    .dataframe tbody tr th:only-of-type {\n",
              "        vertical-align: middle;\n",
              "    }\n",
              "\n",
              "    .dataframe tbody tr th {\n",
              "        vertical-align: top;\n",
              "    }\n",
              "\n",
              "    .dataframe thead th {\n",
              "        text-align: right;\n",
              "    }\n",
              "</style>\n",
              "<table border=\"1\" class=\"dataframe\">\n",
              "  <thead>\n",
              "    <tr style=\"text-align: right;\">\n",
              "      <th></th>\n",
              "      <th>Amount</th>\n",
              "      <th>Settled</th>\n",
              "      <th>Outstanding</th>\n",
              "      <th>Number_of_Days_until_Payment</th>\n",
              "    </tr>\n",
              "  </thead>\n",
              "  <tbody>\n",
              "    <tr>\n",
              "      <th>count</th>\n",
              "      <td>8.753000e+03</td>\n",
              "      <td>8.753000e+03</td>\n",
              "      <td>8753.000000</td>\n",
              "      <td>8753.000000</td>\n",
              "    </tr>\n",
              "    <tr>\n",
              "      <th>mean</th>\n",
              "      <td>2.320905e+03</td>\n",
              "      <td>2.236365e+03</td>\n",
              "      <td>84.539806</td>\n",
              "      <td>43.953616</td>\n",
              "    </tr>\n",
              "    <tr>\n",
              "      <th>std</th>\n",
              "      <td>1.140826e+05</td>\n",
              "      <td>1.140800e+05</td>\n",
              "      <td>791.098158</td>\n",
              "      <td>28.149191</td>\n",
              "    </tr>\n",
              "    <tr>\n",
              "      <th>min</th>\n",
              "      <td>1.990000e+00</td>\n",
              "      <td>1.980000e+00</td>\n",
              "      <td>0.000000</td>\n",
              "      <td>-23.000000</td>\n",
              "    </tr>\n",
              "    <tr>\n",
              "      <th>25%</th>\n",
              "      <td>8.118000e+01</td>\n",
              "      <td>7.698000e+01</td>\n",
              "      <td>0.000000</td>\n",
              "      <td>21.000000</td>\n",
              "    </tr>\n",
              "    <tr>\n",
              "      <th>50%</th>\n",
              "      <td>1.901900e+02</td>\n",
              "      <td>1.819800e+02</td>\n",
              "      <td>0.000000</td>\n",
              "      <td>42.000000</td>\n",
              "    </tr>\n",
              "    <tr>\n",
              "      <th>75%</th>\n",
              "      <td>6.019800e+02</td>\n",
              "      <td>5.599800e+02</td>\n",
              "      <td>0.000000</td>\n",
              "      <td>64.000000</td>\n",
              "    </tr>\n",
              "    <tr>\n",
              "      <th>max</th>\n",
              "      <td>1.066667e+07</td>\n",
              "      <td>1.066667e+07</td>\n",
              "      <td>27930.000000</td>\n",
              "      <td>141.000000</td>\n",
              "    </tr>\n",
              "  </tbody>\n",
              "</table>\n",
              "</div>\n",
              "      <button class=\"colab-df-convert\" onclick=\"convertToInteractive('df-6b3faeee-809b-4de5-9480-be957de696cc')\"\n",
              "              title=\"Convert this dataframe to an interactive table.\"\n",
              "              style=\"display:none;\">\n",
              "        \n",
              "  <svg xmlns=\"http://www.w3.org/2000/svg\" height=\"24px\"viewBox=\"0 0 24 24\"\n",
              "       width=\"24px\">\n",
              "    <path d=\"M0 0h24v24H0V0z\" fill=\"none\"/>\n",
              "    <path d=\"M18.56 5.44l.94 2.06.94-2.06 2.06-.94-2.06-.94-.94-2.06-.94 2.06-2.06.94zm-11 1L8.5 8.5l.94-2.06 2.06-.94-2.06-.94L8.5 2.5l-.94 2.06-2.06.94zm10 10l.94 2.06.94-2.06 2.06-.94-2.06-.94-.94-2.06-.94 2.06-2.06.94z\"/><path d=\"M17.41 7.96l-1.37-1.37c-.4-.4-.92-.59-1.43-.59-.52 0-1.04.2-1.43.59L10.3 9.45l-7.72 7.72c-.78.78-.78 2.05 0 2.83L4 21.41c.39.39.9.59 1.41.59.51 0 1.02-.2 1.41-.59l7.78-7.78 2.81-2.81c.8-.78.8-2.07 0-2.86zM5.41 20L4 18.59l7.72-7.72 1.47 1.35L5.41 20z\"/>\n",
              "  </svg>\n",
              "      </button>\n",
              "      \n",
              "  <style>\n",
              "    .colab-df-container {\n",
              "      display:flex;\n",
              "      flex-wrap:wrap;\n",
              "      gap: 12px;\n",
              "    }\n",
              "\n",
              "    .colab-df-convert {\n",
              "      background-color: #E8F0FE;\n",
              "      border: none;\n",
              "      border-radius: 50%;\n",
              "      cursor: pointer;\n",
              "      display: none;\n",
              "      fill: #1967D2;\n",
              "      height: 32px;\n",
              "      padding: 0 0 0 0;\n",
              "      width: 32px;\n",
              "    }\n",
              "\n",
              "    .colab-df-convert:hover {\n",
              "      background-color: #E2EBFA;\n",
              "      box-shadow: 0px 1px 2px rgba(60, 64, 67, 0.3), 0px 1px 3px 1px rgba(60, 64, 67, 0.15);\n",
              "      fill: #174EA6;\n",
              "    }\n",
              "\n",
              "    [theme=dark] .colab-df-convert {\n",
              "      background-color: #3B4455;\n",
              "      fill: #D2E3FC;\n",
              "    }\n",
              "\n",
              "    [theme=dark] .colab-df-convert:hover {\n",
              "      background-color: #434B5C;\n",
              "      box-shadow: 0px 1px 3px 1px rgba(0, 0, 0, 0.15);\n",
              "      filter: drop-shadow(0px 1px 2px rgba(0, 0, 0, 0.3));\n",
              "      fill: #FFFFFF;\n",
              "    }\n",
              "  </style>\n",
              "\n",
              "      <script>\n",
              "        const buttonEl =\n",
              "          document.querySelector('#df-6b3faeee-809b-4de5-9480-be957de696cc button.colab-df-convert');\n",
              "        buttonEl.style.display =\n",
              "          google.colab.kernel.accessAllowed ? 'block' : 'none';\n",
              "\n",
              "        async function convertToInteractive(key) {\n",
              "          const element = document.querySelector('#df-6b3faeee-809b-4de5-9480-be957de696cc');\n",
              "          const dataTable =\n",
              "            await google.colab.kernel.invokeFunction('convertToInteractive',\n",
              "                                                     [key], {});\n",
              "          if (!dataTable) return;\n",
              "\n",
              "          const docLinkHtml = 'Like what you see? Visit the ' +\n",
              "            '<a target=\"_blank\" href=https://colab.research.google.com/notebooks/data_table.ipynb>data table notebook</a>'\n",
              "            + ' to learn more about interactive tables.';\n",
              "          element.innerHTML = '';\n",
              "          dataTable['output_type'] = 'display_data';\n",
              "          await google.colab.output.renderOutput(dataTable, element);\n",
              "          const docLink = document.createElement('div');\n",
              "          docLink.innerHTML = docLinkHtml;\n",
              "          element.appendChild(docLink);\n",
              "        }\n",
              "      </script>\n",
              "    </div>\n",
              "  </div>\n",
              "  "
            ]
          },
          "metadata": {},
          "execution_count": 4
        }
      ]
    },
    {
      "cell_type": "code",
      "source": [
        "data.isnull().mean()"
      ],
      "metadata": {
        "colab": {
          "base_uri": "https://localhost:8080/"
        },
        "id": "DcWejFpOEWkI",
        "outputId": "d31b90f1-a473-4e92-c92d-dfb0e00a4a4c"
      },
      "execution_count": null,
      "outputs": [
        {
          "output_type": "execute_result",
          "data": {
            "text/plain": [
              "Description                     0.855935\n",
              "Vendor_Name                     0.000000\n",
              "Created                         0.000000\n",
              "Invoice_Date                    0.000000\n",
              "Due_Date                        0.000000\n",
              "Amount                          0.000000\n",
              "Settled                         0.000000\n",
              "Outstanding                     0.000000\n",
              "Number_of_Days_until_Payment    0.000000\n",
              "dtype: float64"
            ]
          },
          "metadata": {},
          "execution_count": 5
        }
      ]
    },
    {
      "cell_type": "code",
      "source": [
        "data['Outstanding'].value_counts()"
      ],
      "metadata": {
        "colab": {
          "base_uri": "https://localhost:8080/"
        },
        "id": "2_T8ClPqEicj",
        "outputId": "ae6c963a-84f5-464f-938d-1a2d1e1cb5a5"
      },
      "execution_count": null,
      "outputs": [
        {
          "output_type": "execute_result",
          "data": {
            "text/plain": [
              "0.00       8119\n",
              "1000.00      20\n",
              "0.01         20\n",
              "6.00          8\n",
              "620.40        7\n",
              "           ... \n",
              "6500.00       1\n",
              "44.82         1\n",
              "540.00        1\n",
              "989.00        1\n",
              "564.00        1\n",
              "Name: Outstanding, Length: 484, dtype: int64"
            ]
          },
          "metadata": {},
          "execution_count": 6
        }
      ]
    },
    {
      "cell_type": "code",
      "source": [
        "x1 = np.array(data['Vendor_Name'].unique())\n",
        "print(np.sort(x1))"
      ],
      "metadata": {
        "colab": {
          "base_uri": "https://localhost:8080/"
        },
        "id": "bTEXJnN5fnrV",
        "outputId": "33d0c900-7869-45e7-87b2-816541b4b7da"
      },
      "execution_count": null,
      "outputs": [
        {
          "output_type": "stream",
          "name": "stdout",
          "text": [
            "['Aaron Frazier' 'Aaron Garcia' 'Aaron Hoffman' ... 'Zachary Thompson'\n",
            " 'Zachary Warren' 'Zachary Williams']\n"
          ]
        }
      ]
    },
    {
      "cell_type": "code",
      "source": [
        "x2 = np.array(datatest['Vendor_Name'].unique())\n",
        "print(np.sort(x2))"
      ],
      "metadata": {
        "colab": {
          "base_uri": "https://localhost:8080/"
        },
        "id": "45kDOYscfwDo",
        "outputId": "15653480-2010-4c68-8ec3-dd153a3834f5"
      },
      "execution_count": null,
      "outputs": [
        {
          "output_type": "stream",
          "name": "stdout",
          "text": [
            "['Aaron Hoffman' 'Aaron Murphy' 'Aaron Parks' ... 'Zachary Hernandez'\n",
            " 'Zachary Simmons' 'Zachary Williams']\n"
          ]
        }
      ]
    },
    {
      "cell_type": "code",
      "source": [
        "# data.drop(columns = 'Description', inplace = True)\n",
        "# datatest.drop(columns = 'Description', inplace = True)"
      ],
      "metadata": {
        "id": "puxKYTSbgAkJ"
      },
      "execution_count": null,
      "outputs": []
    },
    {
      "cell_type": "code",
      "source": [
        "x1 = np.array(data['Vendor_Name'].unique())\n",
        "print(x1)\n",
        "f_map = dict()\n",
        "for i in range(x1.size):\n",
        "  f_map[x1[i]] = i+1\n",
        "\n",
        "print(f_map)"
      ],
      "metadata": {
        "colab": {
          "base_uri": "https://localhost:8080/"
        },
        "id": "WWWazOKfkWR2",
        "outputId": "767376df-a9a3-460b-f2b2-eae7bb831c24"
      },
      "execution_count": null,
      "outputs": [
        {
          "output_type": "stream",
          "name": "stdout",
          "text": [
            "['David Taylor' 'Stephen Wright MD' 'Mark Cordova' ... 'Angela Becker'\n",
            " 'Anna Carter' 'James Ayala']\n",
            "{'David Taylor': 1, 'Stephen Wright MD': 2, 'Mark Cordova': 3, 'Kimberly White': 4, 'Teresa Marshall': 5, 'Christian Ellis': 6, 'Courtney Smith': 7, 'Mario Peters': 8, 'Kelly Gray': 9, 'Stephanie Lopez': 10, 'Jeremy Richardson': 11, 'Robert Taylor': 12, 'Kristina Mcgrath': 13, 'James Roberts': 14, 'Rachel Campbell': 15, 'Samantha Campbell': 16, 'Jeremy Lambert': 17, 'Jessica Wheeler': 18, 'Randall Walker': 19, 'Eric Anderson': 20, 'Justin Barrera': 21, 'Jennifer Peters': 22, 'Richard Moore': 23, 'Melissa Huang': 24, 'Douglas Schwartz': 25, 'Debra Wright': 26, 'George Walker': 27, 'Robert Holmes': 28, 'Christine Mason': 29, 'Ashley George': 30, 'Hailey Reid': 31, 'Hector Lang': 32, 'Hannah Taylor': 33, 'Jerry Christensen': 34, 'Brittany Bowers': 35, 'Martha Daniels': 36, 'Scott Miranda': 37, 'Scott Johnson': 38, 'Michael Sanchez': 39, 'Chad Lee': 40, 'Judy Nguyen': 41, 'Nicole Graves': 42, 'Brittany Duffy': 43, 'Brendan Wells': 44, 'Daniel Moore': 45, 'Timothy Roberts': 46, 'Krista Hall': 47, 'Steven Harris': 48, 'Kenneth Cross': 49, 'Richard Brown': 50, 'Sean Hodge': 51, 'Rachel Savage': 52, 'Brandi Smith': 53, 'Dalton Fletcher': 54, 'Bradley Silva': 55, 'Karen Navarro': 56, 'Whitney Michael': 57, 'Carmen Keith': 58, 'Heather Caldwell': 59, 'Ralph Henderson': 60, 'Allison Sheppard': 61, 'Greg Thompson': 62, 'Brent Ibarra': 63, 'James Harris': 64, 'Jay Fletcher': 65, 'Alexa Huber': 66, 'James Gonzalez': 67, 'Edward Carpenter': 68, 'Eric Fitzgerald': 69, 'Roberto Barton': 70, 'Alexander Jones': 71, 'Sara Coffey': 72, 'Phillip Roberts': 73, 'Eric Acevedo': 74, 'Katherine Hart': 75, 'Brittney Turner': 76, 'Eric Brown': 77, 'Alexander Clark': 78, 'Eric Nelson': 79, 'Tristan Anderson': 80, 'Rodney Washington': 81, 'William Herrera': 82, 'Amy Young': 83, 'Amy Rhodes DDS': 84, 'David Johnson': 85, 'Holly Turner': 86, 'Nicole Williams': 87, 'Joyce Silva': 88, 'Stephen Herrera': 89, 'Edwin Owens': 90, 'Sean Gibson': 91, 'Summer Stewart': 92, 'Stephanie Gardner': 93, 'Christina Summers': 94, 'Ashley Washington': 95, 'Alexander Khan': 96, 'Amanda Gonzalez': 97, 'Michelle Heath': 98, 'Kellie Mcdaniel': 99, 'Michael Montgomery': 100, 'Colleen Sparks': 101, 'Paige Garcia': 102, 'Rhonda Walker': 103, 'Brent Cruz': 104, 'Robert Patel': 105, 'Madison Williams': 106, 'Mary Porter': 107, 'James Decker': 108, 'Todd Valencia': 109, 'Melissa Anderson': 110, 'Kyle Jackson': 111, 'Heather Hardy': 112, 'Andrew Serrano': 113, 'Wesley Smith': 114, 'Louis Ramos': 115, 'Rachel Sheppard': 116, 'Shelly Williams': 117, 'Angela Maldonado': 118, 'Alyssa Shepard': 119, 'Shane Nelson': 120, 'Alexander Payne': 121, 'Thomas Martin': 122, 'Brandon White': 123, 'Joseph Sullivan': 124, 'Heather Evans': 125, 'Melissa Wiley': 126, 'Terry Weaver': 127, 'Jennifer Owen': 128, 'Richard Mcintyre': 129, 'Danny Patterson': 130, 'Jonathan Spencer': 131, 'Herbert Lamb': 132, 'Eric Wilson': 133, 'Chad Lopez': 134, 'Emily Martin': 135, 'Mr. William Bartlett': 136, 'Tracy Wagner': 137, 'Daniel Davidson': 138, 'Shawn Walker': 139, 'Brandon Haynes': 140, 'Andrea Flores': 141, 'Ruth Kelly': 142, 'Laura Martin': 143, 'Heather Sullivan': 144, 'Rebecca Mcdonald': 145, 'William Baker': 146, 'Thomas Vang': 147, 'Maureen Bullock': 148, 'Mary Fitzgerald': 149, 'Antonio Medina': 150, 'Aaron Thomas': 151, 'Patrick Franco': 152, 'Andrew Phillips': 153, 'Michelle Robinson': 154, 'Priscilla Thomas': 155, 'Daniel Williams': 156, 'Andrew Long': 157, 'Gregory Thompson': 158, 'Rodney Hawkins': 159, 'Martha Harris': 160, 'Joshua Wood': 161, 'Ryan Gallagher': 162, 'Natalie Pope': 163, 'Justin Glass': 164, 'Victor Martinez': 165, 'Laura Rodriguez': 166, 'Paul Thomas': 167, 'Shirley Hunter': 168, 'Kayla Newton': 169, 'Erica Baxter': 170, 'Adam Johnson': 171, 'Christina Harris': 172, 'Tamara Martinez': 173, 'Patrick Anderson': 174, 'David Jones': 175, 'Nicholas Obrien': 176, 'Brian Foster': 177, 'Jennifer Martin': 178, 'Ashley Reed': 179, 'Carlos Clark': 180, 'Sara White': 181, 'Chris Curtis': 182, 'James Taylor': 183, 'Gary Lopez': 184, 'Robert Harris': 185, 'Kristin Perez': 186, 'Donna Johnson': 187, 'Brenda Johnson': 188, 'Tiffany Stafford': 189, 'Alison Salas': 190, 'Nathaniel Ramsey': 191, 'Perry Gonzales': 192, 'Kristina Atkinson': 193, 'Cole Barker': 194, 'Nicole Johnson': 195, 'Haley Kirk': 196, 'Theresa Brown': 197, 'Paul Barry': 198, 'Norma Fisher': 199, 'Samantha Washington': 200, 'Eddie Frazier': 201, 'Jessica Lane': 202, 'Susan Sims': 203, 'Johnny Patton': 204, 'Michael Smith': 205, 'Janice Anderson': 206, 'Kristen Scott': 207, 'Roy Bryant': 208, 'Leah Garcia': 209, 'Nina Curtis': 210, 'Nichole Smith': 211, 'Tara Thompson': 212, 'Leah Harris': 213, 'Lisa Black': 214, 'Jim Scott': 215, 'Samantha Gamble': 216, 'Darren Clark': 217, 'Mark Taylor': 218, 'Paul Morgan': 219, 'Emily Green': 220, 'Jason King': 221, 'Andrew Stephens': 222, 'Eric Avila': 223, 'Virginia Freeman': 224, 'Gina Williams': 225, 'Marissa Miller': 226, 'Mrs. Nancy Patterson': 227, 'Thomas Henry': 228, 'Nancy Romero': 229, 'Gabriel Smith': 230, 'Brian James': 231, 'Jerry Wolfe': 232, 'Nicole Price': 233, 'Amber Sanders': 234, 'Christina Wilson': 235, 'Kimberly Thompson': 236, 'Nathaniel Herrera': 237, 'Angela Soto': 238, 'Gregory Taylor': 239, 'Lisa Rice': 240, 'Mary Wilkerson': 241, 'Anthony Ross': 242, 'Lorraine Hansen': 243, 'Christie Scott': 244, 'Melissa Robinson': 245, 'Michael Garcia': 246, 'Jeremiah Myers': 247, 'Allison Morrow': 248, 'Sarah Barnett': 249, 'Scott Floyd': 250, 'Joel Lawson': 251, 'Kathryn Rogers': 252, 'Kyle Klein': 253, 'Jeffrey Mcgee': 254, 'Tony Garcia': 255, 'Timothy Bridges': 256, 'Victor Rose': 257, 'Matthew Hernandez': 258, 'Meagan Hall': 259, 'Phillip Braun': 260, 'Tracy Johnson': 261, 'Elizabeth Spencer': 262, 'Jose Dominguez': 263, 'Mark Miller': 264, 'Gregory House': 265, 'Renee Horne': 266, 'James Cook': 267, 'Jeremy Lara': 268, 'Jacob Lewis': 269, 'Jo Hess': 270, 'Jennifer Maldonado': 271, 'Patricia Gutierrez': 272, 'Kyle Hendrix': 273, 'Tony Jones': 274, 'Gregory Jones': 275, 'Michael Ware': 276, 'Michael Meza': 277, 'David Obrien': 278, 'Brian Carroll': 279, 'Sarah Vaughn': 280, 'Bradley Duran': 281, 'Adrian Williams': 282, 'Marilyn Franco': 283, 'Steven Burton': 284, 'Jacqueline Baker': 285, 'James Russell': 286, 'Taylor Jones': 287, 'Matthew Edwards': 288, 'Darlene Jones': 289, 'Holly Sandoval': 290, 'Melanie Chaney': 291, 'Brandon Ruiz': 292, 'Brenda Sanchez': 293, 'Maureen Sanchez': 294, 'Michael Harris': 295, 'Paul Soto': 296, 'Edwin Lee': 297, 'Michael Francis': 298, 'James Walker': 299, 'Andrea Hanson': 300, 'Michael Davis': 301, 'Lauren Gonzalez': 302, 'Donald Fernandez': 303, 'Daniel Hill': 304, 'Maria Mathis': 305, 'Ryan Baker': 306, 'Kaitlin Flynn': 307, 'Bradley Campbell II': 308, 'Heidi Mcpherson': 309, 'Tracey James': 310, 'Robert Thomas': 311, 'Jordan Soto': 312, 'Denise Vincent': 313, 'Joseph Lopez': 314, 'Elizabeth Roach': 315, 'Thomas Trujillo': 316, 'Vincent Thompson': 317, 'Nicholas Hardin': 318, 'James Hayes': 319, 'Sharon Martin': 320, 'Jessica Rodriguez': 321, 'Nicholas Gardner': 322, 'Tracey Black': 323, 'Gregory May': 324, 'Stephanie Miller': 325, 'Jennifer Hill': 326, 'Timothy Adams': 327, 'Kimberly Cooper': 328, 'Juan Ellis': 329, 'Ashley Patrick': 330, 'Mary Johnson': 331, 'Courtney Morton': 332, 'Crystal Martin': 333, 'Elizabeth Nunez': 334, 'Jennifer Griffin': 335, 'Natalie Miller': 336, 'Sarah Griffin': 337, 'Heather Mullins': 338, 'Jason Kelley': 339, 'Joseph Thompson': 340, 'Heather Sparks': 341, 'Anna Diaz': 342, 'Emily Casey': 343, 'Stacey Hines': 344, 'Timothy Nguyen MD': 345, 'Daniel Morris': 346, 'Carol Holland': 347, 'Brittany Brown': 348, 'Kristen Stanley': 349, 'Curtis Mcmahon': 350, 'Lucas Dillon': 351, 'Desiree Roy': 352, 'Tammy Sellers': 353, 'Nicole Morris': 354, 'Ronnie Mcgee': 355, 'George Bright': 356, 'Norman Jimenez': 357, 'Haley Buckley': 358, 'Oscar Luna': 359, 'Rachel Flores': 360, 'Brian Burke': 361, 'Alexis Parks': 362, 'Alex Grimes': 363, 'Susan Cordova': 364, 'Joseph Owens': 365, 'Jeffrey Brooks Jr.': 366, 'Joshua Graham': 367, 'Zachary Thompson': 368, 'Ann Ball': 369, 'Sonya Phillips': 370, 'Denise White': 371, 'Jay Goodman': 372, 'Richard Hopkins': 373, 'Victoria Jackson': 374, 'Thomas Rodriguez': 375, 'Dylan Andersen': 376, 'Kristina Wang': 377, 'Daniel Patton': 378, 'Krista Lee': 379, 'Shane Sullivan': 380, 'Helen Sanchez': 381, 'Thomas Saunders': 382, 'Tamara Hawkins': 383, 'Amy Atkins': 384, 'Brenda Price': 385, 'Sarah Montgomery': 386, 'Cameron Nolan': 387, 'Kaylee Johnson': 388, 'Stacy Ortega': 389, 'Jennifer Lin': 390, 'Lisa Esparza': 391, 'Shannon Kent': 392, 'Ashley Clark': 393, 'Lauren Rojas': 394, 'Kimberly Wilcox': 395, 'Gerald Johnson': 396, 'Jose Walsh DVM': 397, 'Judy Fisher': 398, 'Jordan Cruz': 399, 'Brian Hamilton': 400, 'Faith Zimmerman': 401, 'Madeline Chase': 402, 'Elizabeth Butler': 403, 'Lisa Michael': 404, 'Jordan Johnson': 405, 'Pamela Brown': 406, 'Caitlin Reilly': 407, 'Billy Barnes': 408, 'Tammy Everett': 409, 'Joshua Perez': 410, 'Mark Thomas': 411, 'William Gray': 412, 'James Hill': 413, 'Joseph Gregory': 414, 'Kim Clark': 415, 'Sean Bailey': 416, 'Paula Middleton': 417, 'David Schultz': 418, 'Alicia Jacobs': 419, 'Stephanie Murray': 420, 'Jonathan Johnson': 421, 'Jeffrey Rose': 422, 'David Griffin': 423, 'Julian Deleon': 424, 'Mr. Christopher Mason': 425, 'Chloe Sanford': 426, 'Justin Schaefer': 427, 'Adam Smith': 428, 'Tanya Craig': 429, 'Ricardo Jones': 430, 'Gina Middleton': 431, 'Arthur Cox': 432, 'Joshua Flores': 433, 'Mark Salinas': 434, 'David Conway': 435, 'Bobby Taylor': 436, 'Jason Schultz': 437, 'Jennifer Franklin': 438, 'Michael Allen': 439, 'Todd White': 440, 'Tracy Ball': 441, 'Kimberly Beck': 442, 'Christy Gonzales': 443, 'Richard Garcia': 444, 'Jenna Coleman': 445, 'Dawn Ramsey': 446, 'Susan Daugherty': 447, 'David Palmer': 448, 'Diane Hurley': 449, 'Brian Murphy': 450, 'Courtney Fry': 451, 'Veronica Brown': 452, 'Maureen Castaneda': 453, 'Courtney Miller': 454, 'Eric Strickland': 455, 'Jason Ford': 456, 'Matthew Peterson': 457, 'Chad Moore': 458, 'Molly Steele': 459, 'Nathan Rocha': 460, 'Damon Copeland': 461, 'Donald Williams': 462, 'Christine Ferguson': 463, 'Robin Hudson': 464, 'Willie Obrien': 465, 'Tyler Roberts': 466, 'Anthony Martin': 467, 'Seth Martin': 468, 'Beth Aguilar': 469, 'Karen Gonzalez': 470, 'Cameron Ball': 471, 'Tonya Patel': 472, 'Eric Montgomery': 473, 'Susan Miranda': 474, 'Alyssa Hall': 475, 'Cody Alexander': 476, 'Michael Patterson': 477, 'Tammy Thompson': 478, 'Melissa Daniels': 479, 'Michael Reyes': 480, 'Madison Jackson': 481, 'Alicia Orr': 482, 'Amber Brown': 483, 'Holly Martin': 484, 'Breanna Rice': 485, 'Lance Landry': 486, 'Stephanie Powell': 487, 'Amanda Monroe': 488, 'Erik Miller': 489, 'Kelly Mendoza MD': 490, 'Ronald Anderson': 491, 'Barbara Lewis': 492, 'Michael Pearson': 493, 'Julie Coffey': 494, 'Nicholas Phillips': 495, 'Dawn Richards': 496, 'Christopher Delgado': 497, 'Adrian Patterson': 498, 'Tiffany Clark MD': 499, 'Jennifer Hutchinson': 500, 'Randy Davies': 501, 'William Taylor': 502, 'Dr. Edward Stone': 503, 'William Miller': 504, 'Ryan Burke': 505, 'Sheila Mitchell': 506, 'Sandra Fry': 507, 'Sara Stone': 508, 'Rachel Sherman': 509, 'Aaron Frazier': 510, 'Ashley Solis': 511, 'Allison Melton': 512, 'Katherine Smith': 513, 'Rachel Butler': 514, 'Nicole Taylor': 515, 'Sierra Baker': 516, 'Desiree Miller': 517, 'Chris Phillips': 518, 'Toni Odom': 519, 'Jasmine Wood': 520, 'Karen Hall': 521, 'Jessica Anderson': 522, 'Thomas Ruiz': 523, 'Catherine Bowers': 524, 'Ian Burton': 525, 'Joshua Garcia': 526, 'Timothy Wong': 527, 'Steven Blackwell': 528, 'Sandra Weaver': 529, 'Lori Rodgers': 530, 'Amy Greene': 531, 'Wendy Walker': 532, 'Cynthia Davis': 533, 'Daniel Watson': 534, 'Patrick Benton': 535, 'Ana Proctor': 536, 'Benjamin Arellano': 537, 'Sherry Steele': 538, 'Clinton Burton': 539, 'Jerry Salazar': 540, 'Melissa Villa': 541, 'Taylor Lawson': 542, 'Mark Arnold': 543, 'Laura Greer': 544, 'Kathy Lindsey': 545, 'George Frye': 546, 'Michael Donovan': 547, 'Stacy Calderon': 548, 'Tyler Hardin': 549, 'Garrett Bennett': 550, 'Walter Caldwell': 551, 'Eric Wiley': 552, 'Gerald Sutton': 553, 'Kara Wells': 554, 'Dana Rice': 555, 'Susan Guzman': 556, 'Maria Richards': 557, 'Lacey Barber': 558, 'Jessica Phillips': 559, 'Terry Gordon': 560, 'Sheri Smith': 561, 'Leslie Black': 562, 'Jeffrey Rivera': 563, 'Cynthia Arnold': 564, 'Todd Marsh': 565, 'April Spencer': 566, 'Nancy Harvey': 567, 'Emily Ross': 568, 'Jessica White': 569, 'Robert Mayo': 570, 'Jonathan Alvarado': 571, 'Kevin Hodges': 572, 'Lynn Davis': 573, 'Lisa Lyons': 574, 'Zachary Hernandez': 575, 'Maria Mckenzie': 576, 'Meagan Davis': 577, 'Shane Martinez': 578, 'Terri Bell': 579, 'Lynn Mcdonald': 580, 'Micheal Wallace': 581, 'Raymond Henson': 582, 'Kim Alvarez': 583, 'Joshua Jackson': 584, 'Jeffrey Jones': 585, 'Kenneth Donovan': 586, 'Veronica Garrett DVM': 587, 'Emily Hughes': 588, 'Roberto Thomas': 589, 'Kathy Mckinney': 590, 'Rachel Reyes': 591, 'Rebecca Mayo': 592, 'Rodney Richard': 593, 'Christopher Bryant': 594, 'Joshua Evans': 595, 'Jessica Lloyd': 596, 'Robert Gilbert': 597, 'Casey Evans': 598, 'Randy Miller': 599, 'Colin Patrick': 600, 'Kendra Mosley': 601, 'Robert Williams': 602, 'Johnny Morgan': 603, 'Blake Hawkins': 604, 'Brian Snyder': 605, 'Timothy Holmes': 606, 'Maria Ortiz': 607, 'Michael Frye': 608, 'Ryan Brooks': 609, 'Justin Williamson': 610, 'Bruce Clements': 611, 'Brittany Hernandez': 612, 'Susan Sullivan': 613, 'James Leon': 614, 'Heather Martinez': 615, 'Todd Knight': 616, 'Jacob Williams': 617, 'Kimberly Jackson': 618, 'Karen Martinez': 619, 'Tammy Brown': 620, 'Tyler Chen DDS': 621, 'Jennifer Smith': 622, 'Karen Weeks': 623, 'Timothy Hicks': 624, 'Darlene Hamilton': 625, 'Samuel Bates': 626, 'Nicole Cruz': 627, 'Barbara Perez': 628, 'Morgan Morse': 629, 'Paula Williams': 630, 'Kenneth Brown': 631, 'Chase Page': 632, 'Brenda Brown': 633, 'Darrell Evans': 634, 'Eric Hopkins': 635, 'Marcus Lee': 636, 'Javier Robertson': 637, 'Vanessa Miller': 638, 'Christopher Anderson': 639, 'Kelly King': 640, 'Brandi Stanley': 641, 'Rachel Miller': 642, 'Casey Underwood': 643, 'Michael Schaefer': 644, 'Michelle Jacobson': 645, 'Danny Sanders': 646, 'Steven Osborne': 647, 'Stacey Henson': 648, 'Mark Hernandez': 649, 'Michael Pittman': 650, 'Joseph Stewart': 651, 'John Oneal': 652, 'Cassandra Ochoa': 653, 'Eddie Owen': 654, 'Karen Johnson': 655, 'Ronald Whitney': 656, 'Dustin Gonzalez': 657, 'Veronica Kelley': 658, 'Patricia Jones': 659, 'Jeffrey Peters': 660, 'Mr. Gary Pittman Jr.': 661, 'Kenneth Tucker': 662, 'Colton Jones': 663, 'Rachel Adams': 664, 'William Martin': 665, 'Barbara Davis': 666, 'Jessica Walters': 667, 'Ms. Rebecca Drake MD': 668, 'Antonio Wilson': 669, 'Andrew Stewart': 670, 'Ashley Moore': 671, 'Larry Johnson': 672, 'Robert Ortega': 673, 'Mr. Robert Wells': 674, 'Benjamin Morris': 675, 'David Mckee': 676, 'Susan Pacheco': 677, 'Christopher Wilson': 678, 'Steven Smith': 679, 'Bryan Mccormick': 680, 'Erin Reynolds': 681, 'Wendy Valdez': 682, 'Kristopher Graham PhD': 683, 'Ronald Gonzalez': 684, 'Jason Bishop': 685, 'Savannah Myers': 686, 'David Martin': 687, 'Richard Scott': 688, 'George Bond': 689, 'Tiffany Gray': 690, 'Nancy Wallace': 691, 'Jennifer Garcia': 692, 'Christopher West': 693, 'Julie Norris': 694, 'Christopher Burton': 695, 'Haley Morales': 696, 'Brian Reilly': 697, 'Donna Williams': 698, 'Denise Campos': 699, 'Claire Booth': 700, 'Brian Grant': 701, 'Terry Moore': 702, 'Rachel Wood': 703, 'Eric Phillips': 704, 'Jennifer Miller': 705, 'Haley Miller': 706, 'David Reed': 707, 'Stephanie Gomez': 708, 'Samantha Blankenship': 709, 'Paul Franco': 710, 'Dean Holden': 711, 'Robin Potts': 712, 'William Allen': 713, 'Andrea David': 714, 'Whitney Holt': 715, 'Jimmy Kim': 716, 'Tyler Ruiz': 717, 'Bailey Hodges': 718, 'Rebecca Li': 719, 'Laura Rowland': 720, 'April Baker': 721, 'Douglas Lopez': 722, 'Natalie Robles': 723, 'Benjamin Jackson': 724, 'Gregory Tucker': 725, 'Matthew Mitchell': 726, 'Christopher Taylor': 727, 'Stephanie Foster': 728, 'Christina Goodwin': 729, 'Mark Butler': 730, 'Patricia Hogan': 731, 'Alyssa Rivera': 732, 'Miguel Black': 733, 'Amy Smith': 734, 'Joshua Day': 735, 'Stephanie Mckenzie': 736, 'Brittany Sanchez': 737, 'Kelly Gonzalez': 738, 'Justin Ray': 739, 'Wendy Anderson': 740, 'Linda Henry': 741, 'Adam Anderson': 742, 'Michele Brewer': 743, 'Kyle Strickland': 744, 'Crystal Davis': 745, 'Angela Cameron': 746, 'Timothy Hart': 747, 'Meredith Johnston': 748, 'Heather Davis': 749, 'Joshua Reese DDS': 750, 'Craig Fitzgerald': 751, 'Michelle Marquez': 752, 'Elaine Simpson': 753, 'Mrs. Amanda Carroll': 754, 'William Leon': 755, 'Teresa Higgins': 756, 'Devin Wilson': 757, 'Lori Taylor': 758, 'Rebecca Ramirez': 759, 'Eugene Zhang': 760, 'Lisa Huynh': 761, 'Monica Mendoza': 762, 'Daniel Allen': 763, 'Donna Willis': 764, 'Vicki Ortiz': 765, 'Kendra Watson': 766, 'William Lee': 767, 'Lauren Collins': 768, 'Timothy Rangel': 769, 'Erica Abbott': 770, 'Ronald Martinez DDS': 771, 'Martin Pope': 772, 'Brad Nolan': 773, 'Charles Tyler': 774, 'Shannon Dennis': 775, 'Joshua Martinez': 776, 'Michelle Landry': 777, 'Katie Sosa': 778, 'John Mora': 779, 'Alan Marshall': 780, 'William Jackson': 781, 'Sara Walker': 782, 'Karina Moses': 783, 'Jennifer Hughes': 784, 'Taylor Wheeler': 785, 'Ashley Duncan': 786, 'Joshua Lowery': 787, 'Glenn Roberts': 788, 'Linda Chapman': 789, 'Kelly Jones': 790, 'Trevor Stafford': 791, 'Daniel Fry': 792, 'Michael Collins': 793, 'Lauren White': 794, 'Andrew Fowler': 795, 'Katherine Cox MD': 796, 'Maria Lewis': 797, 'Kevin Jones': 798, 'Joshua Cobb': 799, 'Elizabeth Figueroa': 800, 'Zachary Booth': 801, 'Kelly Lee': 802, 'Brianna Everett': 803, 'Joseph Serrano': 804, 'Kristin Olson': 805, 'Danielle Martinez': 806, 'Douglas Ross': 807, 'Michael Fisher': 808, 'Melanie Tucker': 809, 'Tiffany Smith': 810, 'Lisa Mathews': 811, 'Angel Ferguson': 812, 'Ryan Lewis': 813, 'Derek Smith': 814, 'Zachary Dudley': 815, 'Jacob Ward': 816, 'Benjamin Hogan': 817, 'Duane Davis': 818, 'Bonnie Dawson': 819, 'Timothy Jensen': 820, 'Kimberly Pena': 821, 'Heidi Jones': 822, 'Anne Johnson': 823, 'Beth Anderson': 824, 'Sandra Cole': 825, 'Keith Hampton': 826, 'Robert Bryant': 827, 'Steven Michael': 828, 'Julie Parker': 829, 'John Smith': 830, 'Andrew Morris': 831, 'Robert Salas': 832, 'Rhonda Klein': 833, 'Victor Reed': 834, 'Jose Perez': 835, 'Jessica Peterson': 836, 'Michelle Anthony': 837, 'Abigail Moore': 838, 'Alison Tapia': 839, 'Michael Adams': 840, 'James Reyes': 841, 'Michael Brown': 842, 'Donna Harris': 843, 'Stephanie Wilkins': 844, 'Larry Tucker': 845, 'Kyle Massey': 846, 'Holly Anderson': 847, 'Tracy Warner': 848, 'Charles Higgins': 849, 'Cynthia Salazar': 850, 'Stephanie Preston': 851, 'Misty Anderson': 852, 'Mr. Juan Bradley': 853, 'Stephanie Sanchez': 854, 'Stephen Carr': 855, 'Tracy Pope': 856, 'Daniel Smith': 857, 'Edward Mendoza': 858, 'Mrs. Linda Ryan': 859, 'Mark Olson': 860, 'Kelly Smith': 861, 'Kelly Armstrong': 862, 'Tony Stevens': 863, 'Denise Davis': 864, 'Joseph Mcdonald': 865, 'Emily Foster': 866, 'Angela Schneider': 867, 'Corey Hayes': 868, 'Jennifer Carter': 869, 'Michael Mayer': 870, 'Peter Martinez': 871, 'Nichole Johnson': 872, 'Angela Gilbert': 873, 'Shelia Smith': 874, 'Mackenzie Castillo': 875, 'Tyler Smith': 876, 'Mark Washington': 877, 'Sandra Fernandez': 878, 'Robert Davidson': 879, 'Michelle Turner': 880, 'Betty Williamson': 881, 'William Price': 882, 'Marcia Tran': 883, 'Lisa Berry': 884, 'Patrick Wade': 885, 'Barry Stewart': 886, 'Benjamin Bauer': 887, 'Richard Rhodes': 888, 'Jerry Cox': 889, 'Tyler James': 890, 'Stephanie Craig': 891, 'Jay Tyler': 892, 'Tiffany Haynes': 893, 'Cindy Davis': 894, 'Angela Hebert': 895, 'Richard Williams': 896, 'Travis Simpson': 897, 'David Wells': 898, 'Charles Smith': 899, 'Adam Preston': 900, 'Andrew Fuller': 901, 'Meredith Ho': 902, 'Amy Gardner': 903, 'Rachel Thomas': 904, 'Benjamin Williams': 905, 'Sarah Beck': 906, 'Justin Sexton': 907, 'Xavier Lopez': 908, 'Zachary Warren': 909, 'Tracey Griffith': 910, 'Robert Berg': 911, 'Anna Nichols': 912, 'Margaret Marshall': 913, 'Katelyn Freeman': 914, 'Kevin Haynes': 915, 'Susan Flores': 916, 'Jeffrey Arellano': 917, 'Wendy James': 918, 'Tammy Lozano': 919, 'Richard Rogers': 920, 'Tiffany Cardenas': 921, 'Christopher Thomas': 922, 'Ashley Rose': 923, 'Alexander Scott': 924, 'Cody Miller': 925, 'Chad Roberts': 926, 'Jennifer Schultz': 927, 'Cindy Coffey': 928, 'Jon Ayers': 929, 'Cameron Garcia': 930, 'Ashley Hernandez': 931, 'Rebecca Osborne': 932, 'Tyler Palmer': 933, 'Steven Fox': 934, 'Alexandria Cline': 935, 'Tonya Francis': 936, 'Wanda Contreras': 937, 'Kevin Khan': 938, 'Kyle Cowan': 939, 'Kelsey Hamilton': 940, 'Diane Higgins': 941, 'Tricia Butler': 942, 'Keith Martin': 943, 'Aaron Garcia': 944, 'David Miller': 945, 'Kurt Patterson Jr.': 946, 'Timothy Walters': 947, 'Reginald Brady': 948, 'Michael Diaz': 949, 'Derek Hogan': 950, 'Michelle Allen': 951, 'Amy Best': 952, 'Xavier Bates': 953, 'Renee Hurley': 954, 'Mrs. Rachel Martinez': 955, 'Cesar Kemp': 956, 'Meredith Haas': 957, 'Jerry Graham': 958, 'Jodi Medina': 959, 'Lisa Gonzalez': 960, 'Sarah Johnson': 961, 'Derek Huber': 962, 'Michael Martinez': 963, 'Adrian York': 964, 'Andrea Richard': 965, 'Susan Jenkins': 966, 'Kevin Walton': 967, 'Deborah Strickland': 968, 'Darrell Jones': 969, 'Thomas Brown': 970, 'Carolyn Hill': 971, 'Patricia Wallace MD': 972, 'Brian Irwin': 973, 'Sarah Lee': 974, 'Kimberly Watson': 975, 'Tanya Frank': 976, 'April Sanford': 977, 'Vanessa Shannon': 978, 'Katherine Wright': 979, 'Roger Ramos': 980, 'Mark Ramirez': 981, 'Stephanie Smith': 982, 'Kristen Wright': 983, 'Matthew Smith': 984, 'Tammy Nelson': 985, 'Philip Curry': 986, 'Amanda Mueller': 987, 'Sara Bauer': 988, 'Holly Shields': 989, 'Angela Montoya': 990, 'Rachael Perez': 991, 'Ashley Smith': 992, 'Christopher Sanchez': 993, 'Alison Moss': 994, 'Michael Foley': 995, 'Mr. Ernest Chan MD': 996, 'Brent Pineda': 997, 'Bradley Atkinson': 998, 'Keith Peterson': 999, 'Joshua Conner': 1000, 'Jeffrey Hall': 1001, 'Brian Alvarado': 1002, 'Matthew Thompson': 1003, 'Brooke Kim': 1004, 'Tiffany Watson': 1005, 'Kristen Garcia': 1006, 'David Costa': 1007, 'Tammy Jackson': 1008, 'Christine Hernandez': 1009, 'Kenneth Evans': 1010, 'James Wyatt': 1011, 'Alex Cole': 1012, 'Laura Barron': 1013, 'Alexandra Morris': 1014, 'Todd Brady': 1015, 'Michelle Fuller': 1016, 'Mr. Charles Rhodes II': 1017, 'Joe Cross': 1018, 'Jeffery Riddle': 1019, 'Angela Obrien': 1020, 'Eric Lewis': 1021, 'Mr. Jason Blair': 1022, 'Jordan Collins': 1023, 'Christine Gonzalez': 1024, 'Christina Martin': 1025, 'Timothy Deleon': 1026, 'Crystal Thomas': 1027, 'Joseph Decker': 1028, 'Susan Franklin MD': 1029, 'Nancy Mitchell': 1030, 'Ruben Hendricks': 1031, 'Lisa Schneider': 1032, 'Lauren Porter': 1033, 'Ruth Martin': 1034, 'Allison Garrett': 1035, 'Tristan Hill': 1036, 'Virginia Walker': 1037, 'Jason Mooney': 1038, 'Victor Boyd': 1039, 'Jeremy Rodriguez': 1040, 'Earl Cruz': 1041, 'Pamela Fleming': 1042, 'Molly Green': 1043, 'Toni Mcdonald': 1044, 'Jennifer Evans': 1045, 'Tony Simmons': 1046, 'Linda Ochoa': 1047, 'Taylor Nixon': 1048, 'Cynthia Aguilar': 1049, 'Gabrielle Burch': 1050, 'Jessica Evans': 1051, 'Chad Good': 1052, 'Cody Graham': 1053, 'Katrina Martin': 1054, 'Brent Fisher': 1055, 'Shannon Walls': 1056, 'James Lopez': 1057, 'Marcia Huang': 1058, 'Joshua Thompson': 1059, 'Edward Salazar': 1060, 'Candace Ellis': 1061, 'Michael Hernandez': 1062, 'Sarah Padilla': 1063, 'Thomas Burch': 1064, 'Allison Holmes': 1065, 'Shawn Larson': 1066, 'Keith Waters': 1067, 'Steven Williams': 1068, 'Alexander Cruz': 1069, 'Christopher Smith': 1070, 'Terry Dixon': 1071, 'Jason Chan': 1072, 'Charles Hernandez': 1073, 'Jonathan George': 1074, 'Sarah Phillips': 1075, 'Cameron Brown': 1076, 'Mrs. Heather Chang': 1077, 'Jeffery Sanchez': 1078, 'Jasmine Willis': 1079, 'Christopher Webster': 1080, 'Anthony Jordan': 1081, 'Colleen Salazar': 1082, 'Nicole Kerr': 1083, 'Michelle Mitchell': 1084, 'Jonathan Smith': 1085, 'Todd Turner': 1086, 'Tami Brewer': 1087, 'Samantha Smith': 1088, 'Christian Oliver': 1089, 'Mr. Michael Gonzalez': 1090, 'Jay Hamilton': 1091, 'Richard Ross': 1092, 'Karen Brown': 1093, 'Jonathan Hunt': 1094, 'Shawn Johnson': 1095, 'Nathaniel Mendez': 1096, 'Todd Diaz': 1097, 'Beth Taylor': 1098, 'Matthew Miller': 1099, 'Mark Brown MD': 1100, 'Richard Fox': 1101, 'Alexander Murray': 1102, 'Natalie Brown': 1103, 'Todd Phillips': 1104, 'Ryan Henson': 1105, 'Jessica Mckee': 1106, 'Christian Munoz': 1107, 'Emily Gibson': 1108, 'Kristen Harris': 1109, 'Deborah Davis': 1110, 'Lisa Ruiz': 1111, 'Whitney May': 1112, 'Rachel Jackson': 1113, 'William Henderson': 1114, 'Jared Andrews': 1115, 'Sharon Bennett': 1116, 'Rachael Ochoa': 1117, 'Lauren Cain': 1118, 'Mr. Brendan Powell MD': 1119, 'Heather Maddox': 1120, 'Michael Green': 1121, 'Valerie Wells': 1122, 'Tara Cobb': 1123, 'Adam Nelson': 1124, 'Sarah Gardner DDS': 1125, 'Ashlee Campbell': 1126, 'Barbara Guzman': 1127, 'Cynthia Simmons': 1128, 'Misty Kemp': 1129, 'Melissa Durham': 1130, 'Amy Ponce': 1131, 'Philip Lawson': 1132, 'Tiffany Shaffer': 1133, 'David Davis': 1134, 'Dustin Brandt': 1135, 'Robyn Ortega': 1136, 'Annette Graham': 1137, 'Joseph Wyatt': 1138, 'Jose Whitney': 1139, 'Jonathan Bailey': 1140, 'Cynthia Craig': 1141, 'Gary Mathews': 1142, 'Robin Fisher': 1143, 'Trevor Porter': 1144, 'Rachael Chan': 1145, 'Tina Davis': 1146, 'Randy Mccann': 1147, 'Bethany Williams': 1148, 'Lauren Sutton': 1149, 'Amanda Miller': 1150, 'John Wood': 1151, 'Patricia Torres': 1152, 'Julia Boyd': 1153, 'Meredith Park': 1154, 'Rachel Meyer': 1155, 'Cassandra Whitaker': 1156, 'Christine Reeves': 1157, 'Sarah Holmes': 1158, 'Shelly Martin': 1159, 'Loretta Johnson': 1160, 'Joseph Rodriguez': 1161, 'Mathew Roberts': 1162, 'Keith Manning': 1163, 'Ashley Sanchez': 1164, 'Richard Young': 1165, 'Edward Ferguson': 1166, 'Cynthia Contreras': 1167, 'Mrs. Gina Williams DDS': 1168, 'Nathaniel Shaw': 1169, 'Ronnie Rodriguez': 1170, 'Anthony Russell': 1171, 'John Norton': 1172, 'Robert Navarro': 1173, 'Rodney Gomez': 1174, 'Brian Edwards': 1175, 'Julie Martin': 1176, 'Ashley King': 1177, 'Joseph Gaines': 1178, 'Jessica Ross': 1179, 'Jessica Garcia': 1180, 'Carlos Freeman': 1181, 'Jacqueline Wood': 1182, 'Stacy Miller': 1183, 'Ashley Nichols': 1184, 'Anna Dawson': 1185, 'Ruben Chavez': 1186, 'Jonathan Hall': 1187, 'Chelsea Benton': 1188, 'Darlene Campbell': 1189, 'Jeremiah Cox': 1190, 'Lacey Allen MD': 1191, 'Courtney Hicks': 1192, 'Cory Morales': 1193, 'Michael Griffin': 1194, 'William Potter': 1195, 'Jessica Green': 1196, 'Cindy Lewis': 1197, 'Donald Wise': 1198, 'Jeremy Cummings': 1199, 'Carla Parker': 1200, 'Nicholas Russell': 1201, 'Mr. Matthew Wilson': 1202, 'Jeremy Taylor': 1203, 'Charles Miller': 1204, 'Alisha Molina': 1205, 'Andres Stewart': 1206, 'Kristin James': 1207, 'Christopher Mckee': 1208, 'Andrew Little': 1209, 'Michelle Terry': 1210, 'Corey Simmons': 1211, 'Joseph Evans': 1212, 'Danielle Burke': 1213, 'Diane Proctor': 1214, 'Anna Adams': 1215, 'Jordan James': 1216, 'Monica Jacobs': 1217, 'Mark Krueger': 1218, 'Mrs. Melissa Smith': 1219, 'Jordan Robinson': 1220, 'Gavin Shelton': 1221, 'Gregory Short': 1222, 'Elizabeth Kelly': 1223, 'Elizabeth Garrison': 1224, 'Mrs. Lisa Bartlett': 1225, 'Bonnie Robertson': 1226, 'Corey Vasquez': 1227, 'Tyrone Mendez': 1228, 'Yolanda Massey': 1229, 'Vicki Cooper': 1230, 'Lori Thomas': 1231, 'Ronald Hernandez': 1232, 'Michael Schultz': 1233, 'Manuel Smith': 1234, 'Jesse Townsend': 1235, 'James Smith': 1236, 'Stacy Cortez': 1237, 'Mrs. Amy Cruz MD': 1238, 'Noah Rodriguez': 1239, 'Joshua Guerrero': 1240, 'Teresa Morgan': 1241, 'Joshua Green': 1242, 'Alan Wood': 1243, 'Jasmine Tucker': 1244, 'Dana Sullivan': 1245, 'Sharon Herrera': 1246, 'Larry Turner': 1247, 'Melanie Simmons': 1248, 'Sarah Ferguson': 1249, 'Samantha Acosta': 1250, 'Matthew Larson': 1251, 'Whitney Hernandez': 1252, 'Lori Murray': 1253, 'Mark Benson': 1254, 'Caleb Lyons': 1255, 'Carol Rice': 1256, 'Shelby Rodriguez': 1257, 'Sandra Mercer': 1258, 'Stephanie Long': 1259, 'Barbara Ramirez': 1260, 'William Thomas': 1261, 'Meredith Craig': 1262, 'Courtney Oliver': 1263, 'Rachel Newton': 1264, 'Lauren Roth': 1265, 'Melissa Burns': 1266, 'Nicholas Aguilar': 1267, 'Charles Ortega': 1268, 'Jennifer Lewis': 1269, 'Jaclyn Bennett': 1270, 'Katelyn Mitchell': 1271, 'Tina Williams': 1272, 'Nancy Shaffer': 1273, 'Jennifer Steele': 1274, 'Megan Bernard': 1275, 'James Hudson': 1276, 'Michael Lara': 1277, 'Eric Yang': 1278, 'Devin Marquez': 1279, 'Haley Rodriguez': 1280, 'Wesley Snyder': 1281, 'Sharon Calhoun': 1282, 'Rachel Bryant': 1283, 'Tara Johnson': 1284, 'Claudia Riggs': 1285, 'Jose Richardson': 1286, 'Tiffany Stone': 1287, 'Amanda Rios': 1288, 'Briana Campbell': 1289, 'Michael Padilla': 1290, 'Caitlin Clark': 1291, 'Katherine Torres': 1292, 'Heather Williams': 1293, 'Kristina Wilson': 1294, 'Lauren Mays': 1295, 'Elizabeth Lopez': 1296, 'Tina Wilkinson': 1297, 'Travis Carrillo': 1298, 'John Michael': 1299, 'Richard Turner': 1300, 'Donald Terry': 1301, 'Alyssa Erickson': 1302, 'Austin Williams': 1303, 'Spencer Keller': 1304, 'Thomas Herrera': 1305, 'Blake Buckley': 1306, 'Mary Donovan': 1307, 'Amanda Gardner': 1308, 'Heather Stone': 1309, 'Cynthia Murray': 1310, 'Karen Walsh': 1311, 'Christopher Rodriguez': 1312, 'Lisa Wilson': 1313, 'Denise Brown': 1314, 'Cynthia Steele': 1315, 'Jennifer Cole': 1316, 'Christina King': 1317, 'David Little': 1318, 'Jill Spencer': 1319, 'James Nguyen': 1320, 'James Brown': 1321, 'Scott Green': 1322, 'Kimberly Anderson': 1323, 'Kelly Byrd': 1324, 'Rachel Jensen': 1325, 'Rodney Campbell': 1326, 'Amanda Mitchell': 1327, 'Crystal Roberson': 1328, 'John Castro': 1329, 'Dr. Stephen Duran': 1330, 'Christopher Carter': 1331, 'Christopher Ross': 1332, 'Phillip Flynn': 1333, 'Stephanie Gordon': 1334, 'Isaac Hill': 1335, 'Michael Hammond': 1336, 'Sherry Brown': 1337, 'Robert Brown': 1338, 'Robert Kennedy': 1339, 'Anne Weber': 1340, 'Joseph Clark': 1341, 'Kirsten Perry': 1342, 'Scott Buckley': 1343, 'Kathy Fisher': 1344, 'Matthew Larson DVM': 1345, 'David Stark': 1346, 'Cheryl Burns MD': 1347, 'Steven Hernandez': 1348, 'Rachel Serrano': 1349, 'Mckenzie Floyd': 1350, 'Daniel Gibbs': 1351, 'Mary Boyd': 1352, 'Sharon Melendez': 1353, 'Kristina Sloan': 1354, 'Edward Cooper': 1355, 'Janet Torres': 1356, 'Diana Kemp': 1357, 'Dwayne Moreno': 1358, 'Peter Lewis': 1359, 'Sarah Finley': 1360, 'Alexander Walls': 1361, 'Aaron Nelson': 1362, 'David Smith': 1363, 'Maria Mathews': 1364, 'Gregory Dunn': 1365, 'Walter Simmons': 1366, 'Kelly Waters': 1367, 'Victoria King': 1368, 'Diane Stein': 1369, 'Jessica Lynch': 1370, 'Thomas Jenkins': 1371, 'Harold Schultz': 1372, 'Savannah Johnson': 1373, 'Jerry Juarez': 1374, 'Catherine Lawson': 1375, 'Brian Campbell': 1376, 'Sherri Ford': 1377, 'Justin Gonzales': 1378, 'Sandra Alvarado': 1379, 'Kelli Martinez': 1380, 'Lisa Morales': 1381, 'Jennifer Richardson': 1382, 'Emily Fitzpatrick': 1383, 'Tracy Woods': 1384, 'Joseph Hamilton': 1385, 'Renee Mcconnell': 1386, 'Virginia Pitts': 1387, 'Michael Reid': 1388, 'Willie Diaz': 1389, 'Kyle Frazier': 1390, 'Steven Morales': 1391, 'Tammy Davis': 1392, 'Terri Graves': 1393, 'Alexis Johnson': 1394, 'Jonathan Martin': 1395, 'Natalie Sullivan': 1396, 'Tamara Scott': 1397, 'Hector Wells': 1398, 'Cynthia Boyd': 1399, 'Brandon Smith': 1400, 'Richard Johnson': 1401, 'Robert Austin': 1402, 'Dr. Amanda White MD': 1403, 'Shirley Cervantes': 1404, 'Beth Orr': 1405, 'Lawrence Schwartz': 1406, 'John Ward': 1407, 'Kathleen Hess': 1408, 'William Larson': 1409, 'Anthony Clark': 1410, 'Dana Nolan': 1411, 'Brandon Hernandez': 1412, 'Mary Miller': 1413, 'Brittany Arellano': 1414, 'Samantha Sanford': 1415, 'Tyler Thomas': 1416, 'Alexis Wang': 1417, 'Dr. Joshua Walter': 1418, 'Jody Long': 1419, 'Isaac Wheeler': 1420, 'Michael Richardson': 1421, 'Mike Miles': 1422, 'Rodney Moran': 1423, 'Nicholas Higgins': 1424, 'Beverly Moore': 1425, 'Kelly Richardson': 1426, 'Jamie Wagner': 1427, 'Justin Hooper': 1428, 'Anna Johnston': 1429, 'Anthony Santana': 1430, 'Erin Jacobs': 1431, 'James Young': 1432, 'Emily Howard': 1433, 'Eric Jones': 1434, 'Lauren Donaldson': 1435, 'Paul Melendez': 1436, 'Perry Parrish': 1437, 'Stephanie Reeves': 1438, 'Jennifer Edwards': 1439, 'Jesus Terrell': 1440, 'Dan Young': 1441, 'Courtney Sandoval': 1442, 'Kevin Sanchez': 1443, 'Nathan Crosby': 1444, 'Christopher Peters': 1445, 'Diana Donaldson': 1446, 'Kimberly Moore': 1447, 'Caitlin Singh': 1448, 'James Pugh': 1449, 'David Thomas': 1450, 'Gregory Walters': 1451, 'Melissa Washington': 1452, 'James Bradshaw': 1453, 'Lawrence Smith': 1454, 'Cory Morris': 1455, 'Eduardo Horn': 1456, 'Joy Watson': 1457, 'Mr. Chad Robles DDS': 1458, 'Chris Boyer': 1459, 'Steve Hicks': 1460, 'Michael Peterson': 1461, 'Jared Walker': 1462, 'Robert Sullivan': 1463, 'Keith Goodman': 1464, 'Mrs. Cynthia Boyd': 1465, 'Kristen Mason': 1466, 'Kevin Austin': 1467, 'Gregory Wade': 1468, 'Melissa Martin': 1469, 'Eric Morrison': 1470, 'Donald King DDS': 1471, 'Joanne Armstrong': 1472, 'Jennifer Johnson': 1473, 'Brandon Russell': 1474, 'Jody Rodriguez': 1475, 'Mark Lawson': 1476, 'Benjamin Adams': 1477, 'Karen Wolfe': 1478, 'Danielle Gray': 1479, 'Katherine Williams': 1480, 'Jonathan Ford': 1481, 'Sylvia Becker': 1482, 'Jacob Flores': 1483, 'Jo White': 1484, 'Mr. Nicholas Bray': 1485, 'Michael Montes': 1486, 'Martin Murphy': 1487, 'Brian Summers': 1488, 'William Campbell': 1489, 'Mark Buchanan': 1490, 'Nancy Holland': 1491, 'Amanda Silva': 1492, 'Eric Coleman': 1493, 'Ms. Ashley James': 1494, 'Brian Johnson': 1495, 'Holly Robinson': 1496, 'Brandon Perez': 1497, 'Anna Jennings': 1498, 'Jeff Craig': 1499, 'Lauren Jackson': 1500, 'Jonathan Savage': 1501, 'Katherine Wilkinson': 1502, 'Alexa Mayo': 1503, 'Walter Gross': 1504, 'Christina Campbell': 1505, 'Taylor Henderson': 1506, 'Jacqueline Anderson': 1507, 'Louis Espinoza': 1508, 'Rita Salazar': 1509, 'Gloria Becker': 1510, 'Jennifer Blackwell': 1511, 'Kenneth Hall': 1512, 'David Murray': 1513, 'Lindsay Garcia': 1514, 'Kathryn Horton': 1515, 'Tina Patterson': 1516, 'Brian Conway': 1517, 'Teresa Rubio': 1518, 'Michael Hansen': 1519, 'Monica Stewart': 1520, 'Charles Clark': 1521, 'Stephen Campbell': 1522, 'Kimberly Oliver': 1523, 'Robin Casey': 1524, 'Kevin Summers': 1525, 'Tommy Ortiz': 1526, 'James Riddle': 1527, 'William Lozano': 1528, 'Barbara Ballard': 1529, 'Charles Rollins': 1530, 'Rachel Wilcox': 1531, 'Gabriel Vazquez': 1532, 'Gina Newton': 1533, 'Amber Cortez': 1534, 'Crystal Baldwin': 1535, 'Robert Rodriguez': 1536, 'Tammy Carter': 1537, 'Mark Soto': 1538, 'Henry Chang': 1539, 'Michelle Evans': 1540, 'Christina Miller': 1541, 'Christy Freeman': 1542, 'Linda Ryan': 1543, 'Jennifer Chavez': 1544, 'Richard Stewart': 1545, 'Sandy Avila': 1546, 'David Harris': 1547, 'John Gardner': 1548, 'Paul Martin': 1549, 'Derrick Brown': 1550, 'Elizabeth Carter': 1551, 'Hunter Hutchinson': 1552, 'Carol Foley': 1553, 'Brandon Crawford': 1554, 'Rodney Cox': 1555, 'Jonathan Pacheco': 1556, 'Joyce White': 1557, 'Debra Lin': 1558, 'Joel Hoover': 1559, 'Richard Holland': 1560, 'Brian Smith': 1561, 'Amy Navarro': 1562, 'Keith Miles': 1563, 'Rebecca Walters MD': 1564, 'Andrew Daniels': 1565, 'Carol Patel': 1566, 'Kathleen Williams': 1567, 'John Quinn': 1568, 'Sheryl Lee': 1569, 'Gregory Palmer': 1570, 'Cynthia Hunt': 1571, 'Elizabeth Ross': 1572, 'Dale Mercado': 1573, 'Ronald Klein': 1574, 'James Miranda': 1575, 'Leonard Beck': 1576, 'Ashley Medina': 1577, 'Tyler Le': 1578, 'Rebecca Peterson': 1579, 'Danielle Frost': 1580, 'Aaron Murphy': 1581, 'Antonio Fleming': 1582, 'Jason Jordan': 1583, 'Jennifer Callahan': 1584, 'Lisa Murray': 1585, 'Cheryl Sutton': 1586, 'Jeffery Ewing': 1587, 'David Carter': 1588, 'Tammy Johnson': 1589, 'Laura Thompson DDS': 1590, 'Diana Smith': 1591, 'Katherine Chan': 1592, 'Shannon Davis': 1593, 'Heather Fox': 1594, 'Richard Woods': 1595, 'James Harper': 1596, 'Michael Patton': 1597, 'Victoria Johnson': 1598, 'Kyle Guerra': 1599, 'Mary Galloway': 1600, 'Laurie Foster': 1601, 'Travis Brown': 1602, 'Jennifer Clark': 1603, 'Eddie Castillo': 1604, 'Benjamin Cantrell': 1605, 'Michael Jenkins': 1606, 'Gregory Walls': 1607, 'Alexis King': 1608, 'Stephen Martinez': 1609, 'Carl Williams': 1610, 'Douglas Pruitt': 1611, 'Laura Hicks': 1612, 'Angela Boyle': 1613, 'Dr. Heather Andrews MD': 1614, 'Barry Miller': 1615, 'Amanda Baker': 1616, 'Stefanie Bryant': 1617, 'John Boyd': 1618, 'Nathan Carpenter': 1619, 'Elizabeth Smith': 1620, 'Robert Hancock': 1621, 'Daniel Guerra': 1622, 'James Turner': 1623, 'Christian Frank': 1624, 'Jacob Barnes': 1625, 'Katie Kramer': 1626, 'Gina Garcia': 1627, 'Christina Martinez': 1628, 'Matthew Jones': 1629, 'Jennifer Jackson': 1630, 'Justin Pena': 1631, 'Jason Melendez': 1632, 'Lauren Harrison': 1633, 'Aaron Knight': 1634, 'Amy Holmes': 1635, 'Curtis Hopkins': 1636, 'Stacy Clark': 1637, 'Eric Thomas': 1638, 'Jason Johns': 1639, 'Victor Evans': 1640, 'Veronica Russell': 1641, 'Nicholas Gray': 1642, 'Julie Evans': 1643, 'Dr. Sherry Howard DVM': 1644, 'Lee Hernandez': 1645, 'Anthony Ryan': 1646, 'Matthew Perkins': 1647, 'Christopher Wilkinson': 1648, 'Maria Burgess': 1649, 'Elizabeth Perry': 1650, 'Kara Stark': 1651, 'Karen Jones': 1652, 'Oscar Herrera': 1653, 'Elizabeth Whitaker': 1654, 'Brandon Mcdonald': 1655, 'Rhonda Estes': 1656, 'Linda Johnson': 1657, 'Benjamin Jones': 1658, 'Daniel King': 1659, 'Alan Fernandez': 1660, 'Angel Gutierrez': 1661, 'Emily Smith': 1662, 'Mary Cooper': 1663, 'Tricia Craig': 1664, 'Robert Collins': 1665, 'Debra Reid': 1666, 'Nicole White': 1667, 'Ashley Price': 1668, 'Cole Stewart': 1669, 'Shannon Jackson': 1670, 'Cynthia Miller': 1671, 'Karen White': 1672, 'Shelby Thompson': 1673, 'Brandon Flowers': 1674, 'Patricia Phillips': 1675, 'Austin Wu': 1676, 'Samantha Richard': 1677, 'Ian Williams': 1678, 'Thomas Williams': 1679, 'Aaron Howard': 1680, 'Jason Sanchez': 1681, 'Rachel Smith': 1682, 'Austin Powell': 1683, 'Tammy Meadows': 1684, 'Sherry Lyons': 1685, 'Shawn Watson': 1686, 'William Cole': 1687, 'Lauren Osborne': 1688, 'Katherine Gill': 1689, 'Claire Ward': 1690, 'Jacqueline Russell': 1691, 'Cynthia Fleming': 1692, 'Steven Bennett': 1693, 'Jennifer Collins': 1694, 'Jessica Ramsey': 1695, 'Lisa Bennett': 1696, 'Richard Day': 1697, 'Kimberly Martin': 1698, 'Jennifer Leon': 1699, 'Stephanie Nelson': 1700, 'Allen Brown': 1701, 'Ashley Cole': 1702, 'Matthew Merritt': 1703, 'Joshua Clay': 1704, 'Kyle Nicholson': 1705, 'Autumn Wilkerson': 1706, 'Sharon Lozano': 1707, 'Kristin Wells': 1708, 'Dustin Graham': 1709, 'Melvin Franco': 1710, 'Michelle Holloway': 1711, 'Daniel Peterson': 1712, 'Patrick Campos': 1713, 'John Bennett': 1714, 'Andrew Chen': 1715, 'Matthew Garza': 1716, 'Sandra Vargas': 1717, 'Rachel Marsh': 1718, 'Michael Curry': 1719, 'Martin Smith': 1720, 'Dr. Natalie Kaufman': 1721, 'Sean Daugherty': 1722, 'Sonya Hernandez': 1723, 'Tiffany Collins': 1724, 'Seth Arias': 1725, 'Danielle Wilkinson': 1726, 'Mark Hoffman': 1727, 'Michael Williams': 1728, 'James English': 1729, 'Patricia Jimenez': 1730, 'Benjamin Schroeder': 1731, 'Tyler Bowers': 1732, 'Stephen Huff': 1733, 'Maria Harvey': 1734, 'Lisa Hartman': 1735, 'Anne Zhang': 1736, 'Zachary Simmons': 1737, 'Casey Young': 1738, 'Stephanie Nunez': 1739, 'Collin Barrera': 1740, 'Zachary Garcia': 1741, 'Brian Jackson': 1742, 'Gabrielle Herrera': 1743, 'Nicole Burns': 1744, 'Christopher Greer': 1745, 'Isaac Perez': 1746, 'Cheryl Walker': 1747, 'Nathaniel Pham': 1748, 'Robert Bell': 1749, 'Kyle Diaz': 1750, 'Travis Berg': 1751, 'Rebecca James': 1752, 'Nicole Melendez': 1753, 'Rachel Ingram': 1754, 'John Johnson': 1755, 'Sarah Moon': 1756, 'Evelyn Dunn': 1757, 'Carlos Sosa': 1758, 'Rebecca Simmons': 1759, 'Gregory Harris': 1760, 'Marcus Maddox': 1761, 'Elizabeth Bishop': 1762, 'Joseph Turner': 1763, 'Jeremy Lewis': 1764, 'Joyce Higgins': 1765, 'Matthew Nguyen': 1766, 'Patricia Garrett': 1767, 'Spencer Fitzgerald': 1768, 'Steven Gardner': 1769, 'Paula Wang': 1770, 'Jacob Gonzalez': 1771, 'Sara Sanchez': 1772, 'Elizabeth Miller': 1773, 'Charles Huerta': 1774, 'Gregory Ryan': 1775, 'Denise Yang': 1776, 'Ariel Rowland DDS': 1777, 'Christopher Lewis': 1778, 'Tamara Benson': 1779, 'Nathaniel Hall': 1780, 'Robert Hood': 1781, 'Marcus Barton': 1782, 'Barbara Yang': 1783, 'Jodi Hebert': 1784, 'Jessica Gonzalez': 1785, 'Jessica Velez': 1786, 'Melissa Carpenter': 1787, 'Amy Hays': 1788, 'Travis Potter': 1789, 'Matthew Lowe': 1790, 'Michael Bradley': 1791, 'Tracy Diaz': 1792, 'Joshua Davis': 1793, 'Mitchell Mullins': 1794, 'Megan Soto': 1795, 'Darlene Holden': 1796, 'Francisco Ruiz': 1797, 'Vanessa Evans': 1798, 'William Randall': 1799, 'Michelle Coffey': 1800, 'Nicole Smith': 1801, 'Scott Perry': 1802, 'Jaclyn Hawkins': 1803, 'Tony Cabrera': 1804, 'Matthew Flynn': 1805, 'Stephen Ortega': 1806, 'Sandra Charles': 1807, 'Jonathan West': 1808, 'Matthew Shields': 1809, 'Garrett Wallace': 1810, 'Shawn Burke': 1811, 'Tiffany Buck': 1812, 'Wendy Coleman': 1813, 'James Garcia': 1814, 'Sarah Jimenez': 1815, 'Kimberly Shaw': 1816, 'Melanie Williams': 1817, 'Katherine Salas': 1818, 'Ryan Rivera': 1819, 'Sharon Santiago': 1820, 'David Patton': 1821, 'Rodney Hunter': 1822, 'Anthony Chavez': 1823, 'Kurt Ross': 1824, 'Jerry Jackson': 1825, 'Lee Clark': 1826, 'Jane Glenn': 1827, 'Matthew David': 1828, 'Ashley Garcia': 1829, 'Amy Johnson': 1830, 'Mr. Jerry Kennedy': 1831, 'Janet Riley': 1832, 'Julia Lee PhD': 1833, 'Jacob Ford': 1834, 'John Taylor': 1835, 'Sherri Bennett': 1836, 'Eric Cohen': 1837, 'Catherine Garcia': 1838, 'Janice Cole': 1839, 'Michelle Lawrence': 1840, 'Kathy Perez': 1841, 'Edward Mayo': 1842, 'David Dawson': 1843, 'Katie Wilson': 1844, 'John Hayes': 1845, 'Thomas Dominguez': 1846, 'Barbara Carrillo MD': 1847, 'Angel Harris': 1848, 'Courtney Wilson': 1849, 'Jade Sparks': 1850, 'Jessica Hansen': 1851, 'Sean Richards': 1852, 'Heather Palmer': 1853, 'Joseph Cortez': 1854, 'Rachel Chapman': 1855, 'Gail Holloway': 1856, 'Peter Sosa': 1857, 'Barbara Montgomery': 1858, 'Ralph West': 1859, 'Eric Ewing': 1860, 'Tanya Hooper': 1861, 'Jennifer Strickland': 1862, 'Susan Chang': 1863, 'Melissa Kemp': 1864, 'Brian Hudson': 1865, 'Brian Patel': 1866, 'Donna Mendez': 1867, 'Patricia Smith': 1868, 'Heather Stuart': 1869, 'Matthew Calderon': 1870, 'Jeffery Sullivan': 1871, 'Katherine Gonzalez': 1872, 'Jerome Morris': 1873, 'Tina Orozco': 1874, 'William Smith': 1875, 'Jeremy Leon': 1876, 'Debbie Brandt': 1877, 'Kathleen Jensen': 1878, 'Lance Scott': 1879, 'Ryan Kelly': 1880, 'Timothy Curtis': 1881, 'Jessica Johnston': 1882, 'Justin Knight': 1883, 'Sharon Reynolds': 1884, 'Jennifer Sanchez': 1885, 'Paul Norman': 1886, 'Taylor Hughes': 1887, 'Lisa Gardner': 1888, 'Jennifer Sherman': 1889, 'Aaron Parks': 1890, 'Anthony Green': 1891, 'Robert Allen': 1892, 'Erin Edwards': 1893, 'Kathryn Lee': 1894, 'Christina Lopez': 1895, 'Holly Young': 1896, 'Michelle Quinn': 1897, 'Kristen Barr': 1898, 'Brandon Carr': 1899, 'Judy Bentley': 1900, 'Stephanie Kelley': 1901, 'Robert Roberts': 1902, 'Ashley Dawson': 1903, 'Randy Goodwin': 1904, 'Mr. Shane Serrano': 1905, 'Charles Coleman': 1906, 'Justin Stewart': 1907, 'Matthew Taylor': 1908, 'Christopher Ballard': 1909, 'Briana Williams': 1910, 'Susan Hart': 1911, 'Amber Mckinney': 1912, 'Anthony Holloway': 1913, 'Andrew Boyd': 1914, 'Maxwell Thomas': 1915, 'William Willis': 1916, 'Luis Jackson': 1917, 'Jennifer Calderon': 1918, 'Jordan Gilbert': 1919, 'Michael Soto': 1920, 'Randall Smith': 1921, 'Brittany Flores': 1922, 'Jerry Bennett': 1923, 'David Valentine': 1924, 'Thomas Mccormick': 1925, 'David Cox': 1926, 'Ryan Reyes': 1927, 'Courtney Reynolds': 1928, 'Jeffrey Chavez': 1929, 'Daniel Jones': 1930, 'Michael Bell': 1931, 'Travis Thompson': 1932, 'William Fisher': 1933, 'Christopher Richards': 1934, 'Belinda Romero': 1935, 'Lisa Moore': 1936, 'Joan Ball': 1937, 'Anthony Lawson': 1938, 'Tracy James': 1939, 'Jonathan Rodriguez': 1940, 'Eric White': 1941, 'Lori Stanton': 1942, 'Jo Thomas': 1943, 'Katrina Carroll': 1944, 'Julie Kim': 1945, 'Taylor Underwood': 1946, 'Misty Gonzalez': 1947, 'Bianca Fleming': 1948, 'Clayton Miranda': 1949, 'Eric Gordon': 1950, 'Tiffany Stevens': 1951, 'Amanda Roberts': 1952, 'Kara Pugh': 1953, 'Jonathan Gomez': 1954, 'Veronica Rodriguez': 1955, 'Monique Rodriguez': 1956, 'Joseph Hernandez': 1957, 'Nicole Stewart': 1958, 'David Flores': 1959, 'Julie Sullivan': 1960, 'Christopher Chen': 1961, 'Jordan Lee': 1962, 'Christine Stewart': 1963, 'Sheila Wall': 1964, 'Miguel Gray': 1965, 'Aaron Hoffman': 1966, 'Katherine Colon': 1967, 'Jennifer Peterson': 1968, 'Melanie Osborn': 1969, 'Robert King': 1970, 'Marcus Smith': 1971, 'Jerome Greene': 1972, 'John Rocha': 1973, 'Heather Cook': 1974, 'Daniel Stokes': 1975, 'Jaclyn Reyes': 1976, 'Colleen Wright': 1977, 'Rachel Holloway': 1978, 'Michael Clark': 1979, 'Stephen Mccarthy': 1980, 'Jeffrey Williams': 1981, 'Samantha Reid': 1982, 'Scott Ramos': 1983, 'Dr. Charles Pierce': 1984, 'Robert Thompson': 1985, 'Miranda Boyd': 1986, 'Darlene Reed': 1987, 'Donna Massey': 1988, 'Darius Harris': 1989, 'Patrick Hughes': 1990, 'Anne Beltran': 1991, 'Chelsea Sims': 1992, 'David Atkinson': 1993, 'David Scott': 1994, 'Alicia Woodward': 1995, 'Edgar Johnson': 1996, 'Kim Baker': 1997, 'David Cruz': 1998, 'Steven Barajas': 1999, 'Diane Garcia': 2000, 'Becky Ramirez': 2001, 'Desiree Holt': 2002, 'Jonathan Gibbs': 2003, 'Jerome Montoya': 2004, 'Teresa Kennedy': 2005, 'Justin Shaw': 2006, 'Joshua Hicks': 2007, 'Heather Miller': 2008, 'Alexander Murphy': 2009, 'Christopher Montes': 2010, 'Eric Nguyen': 2011, 'Nathan Mclaughlin': 2012, 'Tasha Wells': 2013, 'Mitchell Ortega': 2014, 'Janet Dunlap': 2015, 'Amber Glenn': 2016, 'Adam Graves': 2017, 'Elizabeth Luna': 2018, 'Donna Weber': 2019, 'Tonya Lambert': 2020, 'John Martinez': 2021, 'John Byrd': 2022, 'Amy English': 2023, 'Scott Daniels': 2024, 'James Swanson': 2025, 'Marissa Perez': 2026, 'David Buck': 2027, 'Erika Smith': 2028, 'Ronald Kelly': 2029, 'Jaime Dominguez': 2030, 'Vanessa Walker': 2031, 'Jeffrey Stevens PhD': 2032, 'Laura Porter': 2033, 'Gregory Martin': 2034, 'John Newton': 2035, 'Steven Collins': 2036, 'Candice Day': 2037, 'Derek Thomas MD': 2038, 'Jennifer Chapman': 2039, 'Douglas Crawford': 2040, 'Richard Nguyen': 2041, 'Rebecca Bishop': 2042, 'Jennifer Vargas': 2043, 'Rachel Jordan': 2044, 'Stephen Brown': 2045, 'Christopher Young': 2046, 'Erica Lewis': 2047, 'Melinda Russo': 2048, 'Mr. Brian Chavez': 2049, 'Adam Stone': 2050, 'Debra James': 2051, 'Madison Novak': 2052, 'Karen Smith': 2053, 'John Jennings': 2054, 'Brian Lee': 2055, 'Christina Mclaughlin': 2056, 'Dennis Hoffman': 2057, 'Timothy Hill': 2058, 'Richard Phelps': 2059, 'Frank Thomas': 2060, 'John Miller': 2061, 'Johnny Walker': 2062, 'Victor Roy': 2063, 'Gina Adkins': 2064, 'Patrick Avila': 2065, 'Yesenia Bell': 2066, 'Mr. David Wood': 2067, 'Barbara Lopez': 2068, 'Brad Blankenship': 2069, 'Danielle Rogers': 2070, 'Renee Perez': 2071, 'Megan Smith': 2072, 'Michael Mcintyre': 2073, 'Samantha Lang': 2074, 'Theresa Schwartz': 2075, 'Jade Robinson': 2076, 'Debbie Wiley': 2077, 'Paul Lee': 2078, 'Brent Hogan': 2079, 'Jay Johnson': 2080, 'Hailey Gonzales': 2081, 'Kenneth Sellers': 2082, 'Lisa Newman': 2083, 'Kevin Schroeder': 2084, 'Shawn Torres': 2085, 'Jon Newton': 2086, 'Heather Garcia': 2087, 'Laura Olson': 2088, 'Kelli Nunez': 2089, 'Laurie Burns': 2090, 'Miss Nancy Hoffman': 2091, 'Latasha Mendez': 2092, 'Jason Carr': 2093, 'Hailey Allen': 2094, 'James Hernandez': 2095, 'Cassie Rich': 2096, 'Angela Ramirez': 2097, 'Tracy Cobb': 2098, 'Timothy Grant': 2099, 'Kristen Robertson': 2100, 'Samantha Farmer': 2101, 'Brian Spencer': 2102, 'John Pierce': 2103, 'Adam Hudson': 2104, 'Lee Williams': 2105, 'Patrick Castillo': 2106, 'Alexandria Espinoza': 2107, 'Karen Parrish': 2108, 'John Butler': 2109, 'Kristy Hanson DDS': 2110, 'Robert Oliver': 2111, 'Charles Reeves': 2112, 'Shelley Park': 2113, 'Latoya Brown': 2114, 'Taylor Graves': 2115, 'April Jackson': 2116, 'Kayla Osborn': 2117, 'James Johnson': 2118, 'James Jones': 2119, 'Ana Mcdaniel MD': 2120, 'Jacqueline Schneider': 2121, 'Kathryn Delgado': 2122, 'Kenneth Mcclure': 2123, 'Mr. Michael Lewis': 2124, 'Breanna Christensen': 2125, 'James Martinez': 2126, 'Christopher Adams': 2127, 'Wesley Sanchez': 2128, 'Jonathan Banks': 2129, 'Kristina Fuller': 2130, 'Daniel Long': 2131, 'Omar Curtis': 2132, 'Travis Alvarez': 2133, 'Michael Pratt': 2134, 'Jorge Keller': 2135, 'Victor Richmond': 2136, 'Sarah James': 2137, 'Andrew Wong': 2138, 'Joseph Mooney': 2139, 'Jeffrey Gutierrez': 2140, 'Ernest Brown': 2141, 'Bernard Smith': 2142, 'Shelby Dennis': 2143, 'Paul Stevens': 2144, 'Joel Blackwell': 2145, 'Megan Rodriguez': 2146, 'Paul Sloan': 2147, 'Andre Ward': 2148, 'Scott King': 2149, 'Kathleen Garza': 2150, 'Tiffany Austin': 2151, 'Kimberly Lowe': 2152, 'Sarah Chapman': 2153, 'Noah Rose': 2154, 'Terry Foster': 2155, 'Melissa Miranda': 2156, 'Matthew French': 2157, 'John Peck': 2158, 'Jose Marquez': 2159, 'Sherry Watkins': 2160, 'Jason Gonzalez': 2161, 'Victoria Williams': 2162, 'James White': 2163, 'Jennifer Levy MD': 2164, 'Leonard Garcia': 2165, 'Kimberly Harris': 2166, 'Melissa Cobb': 2167, 'Savannah Campbell': 2168, 'Kimberly Hamilton MD': 2169, 'William Vang': 2170, 'Thomas Murray': 2171, 'Craig Stewart': 2172, 'Valerie Thomas': 2173, 'Logan Jarvis': 2174, 'Sandra Richardson': 2175, 'Diane Rogers': 2176, 'Johnathan Roberts': 2177, 'Jennifer Valenzuela': 2178, 'Tammie Richardson': 2179, 'Martin Gray': 2180, 'Adam Jones': 2181, 'Jennifer Lopez': 2182, 'Leah Fleming': 2183, 'Laura Young MD': 2184, 'Joshua Brown': 2185, 'Daniel Carlson': 2186, 'Mark Richardson': 2187, 'Renee Dunlap': 2188, 'Joshua Johns': 2189, 'Chase Singh': 2190, 'Sharon Robles': 2191, 'Donald Gonzalez': 2192, 'Joshua Webster': 2193, 'Frederick Oneal': 2194, 'Anna Hawkins': 2195, 'Katelyn Riley': 2196, 'Melissa Gray': 2197, 'Crystal Cohen': 2198, 'Phyllis Espinoza': 2199, 'Kevin Maynard': 2200, 'Debra Turner': 2201, 'Christopher Moore': 2202, 'Craig Gallagher': 2203, 'Stephen Christensen': 2204, 'Linda Turner': 2205, 'Angel Hale': 2206, 'Michael Taylor': 2207, 'Robert Alexander': 2208, 'James Phillips': 2209, 'Andrea Morgan': 2210, 'Jeanette Morales': 2211, 'Steve Smith': 2212, 'Richard Cook': 2213, 'Courtney Ayala': 2214, 'Trevor Poole': 2215, 'Anita Porter MD': 2216, 'Zachary Williams': 2217, 'Hannah Evans': 2218, 'Kelsey Ortega': 2219, 'Peter Chung': 2220, 'Reginald Foster': 2221, 'Lucas Rice': 2222, 'Mary Horne': 2223, 'Alyssa Davis': 2224, 'Brian Bauer': 2225, 'Amber Daniels': 2226, 'Tony Richardson': 2227, 'Kathryn White': 2228, 'Ariel Bell': 2229, 'Jennifer Fisher': 2230, 'Jeffrey Michael': 2231, 'Jason Holt': 2232, 'Mrs. Lori Mendoza': 2233, 'Michael Brennan': 2234, 'Amber Williams': 2235, 'Kimberly Bishop': 2236, 'Brittany James': 2237, 'Adam Roth': 2238, 'Mark Ross': 2239, 'Stephen Moore': 2240, 'Manuel Harrison': 2241, 'Christopher Torres': 2242, 'Brent Wade': 2243, 'Derek Allen': 2244, 'Eddie Jordan': 2245, 'Benjamin Warren': 2246, 'Carla West': 2247, 'Kayla Morrow': 2248, 'Marilyn Hale': 2249, 'Timothy Watson': 2250, 'Ashley Rivera': 2251, 'Tammy Caldwell': 2252, 'Adam Ramirez': 2253, 'Nicholas Jones': 2254, 'Tiffany Wilkins': 2255, 'Daniel Rogers': 2256, 'Amanda Meyer': 2257, 'Wanda Curry': 2258, 'Cheyenne Barr': 2259, 'Carly Mcconnell': 2260, 'Katherine Curry': 2261, 'Jamie Martinez': 2262, 'Robert Colon': 2263, 'Sandra Spence': 2264, 'Ralph Taylor': 2265, 'Christian Williams': 2266, 'Tammy Adkins': 2267, 'Daniel Lee': 2268, 'Lisa Bernard': 2269, 'Stephen Beck': 2270, 'Mary Mcclure': 2271, 'Michael Tucker': 2272, 'Jordan Hayes': 2273, 'Tristan Patel': 2274, 'Mrs. Lisa Camacho': 2275, 'Karen Ponce': 2276, 'Gina Kennedy': 2277, 'Sarah Gutierrez': 2278, 'Robert Wilson': 2279, 'Alexis Thompson': 2280, 'Zachary Gamble': 2281, 'Ryan Miller': 2282, 'Cynthia Johnson': 2283, 'Keith Myers': 2284, 'Sean Bowen': 2285, 'Jeffrey Jordan': 2286, 'William Allison': 2287, 'Carl Clark': 2288, 'Johnathan Jackson': 2289, 'Linda Bowen': 2290, 'Raven Moore': 2291, 'Jonathan Elliott': 2292, 'Lucas Rodriguez': 2293, 'Lindsey Atkins': 2294, 'Antonio Ross': 2295, 'Cameron Davis': 2296, 'Eric Watson': 2297, 'Susan Maxwell': 2298, 'Richard Sheppard': 2299, 'Diana Scott': 2300, 'Daniel Mcintyre': 2301, 'Robin Morales': 2302, 'Miss Amy Bradley': 2303, 'Teresa Castillo': 2304, 'Thomas Weber': 2305, 'Stephanie Mccall': 2306, 'Beth Jefferson': 2307, 'Mary Campbell': 2308, 'Jeanette Leblanc': 2309, 'Curtis White': 2310, 'Janet Edwards': 2311, 'Dawn Clark': 2312, 'Joshua Morgan': 2313, 'Bradley Neal': 2314, 'Joseph Bradley': 2315, 'Derrick Everett': 2316, 'Robert Watson': 2317, 'Cathy Arellano': 2318, 'Lawrence Whitehead': 2319, 'Janet Ramirez': 2320, 'George Moss': 2321, 'Michael Beard': 2322, 'Greg Hicks': 2323, 'Sandra Delacruz': 2324, 'Rodney Maxwell': 2325, 'Kirsten Dean': 2326, 'Kenneth Hamilton': 2327, 'Thomas White': 2328, 'Wesley Anthony': 2329, 'Debbie Parrish': 2330, 'Curtis George': 2331, 'Parker Kim': 2332, 'Brandon Keller': 2333, 'Mitchell Harrison': 2334, 'Kevin Smith': 2335, 'Holly Ramirez': 2336, 'Kevin Roach': 2337, 'Michael Peters': 2338, 'Jimmy Johnson': 2339, 'Kevin Graham': 2340, 'Steven Reese': 2341, 'Dakota Pittman': 2342, 'Joseph Rose': 2343, 'Stephen Tran': 2344, 'Andrew Lawson': 2345, 'Robert Camacho': 2346, 'Amy Villarreal': 2347, 'Michael Burke': 2348, 'Maria Craig': 2349, 'Katie Potter': 2350, 'Shawn Jones': 2351, 'David Carroll': 2352, 'Rachael Nelson': 2353, 'Beth Trujillo': 2354, 'Clarence Hall': 2355, 'Maria Buckley': 2356, 'Holly Huber': 2357, 'Andrew Knight': 2358, 'Thomas Nichols': 2359, 'Adam Silva': 2360, 'Nathan Dawson': 2361, 'Catherine Johnson': 2362, 'Amy Hayes': 2363, 'Kelly Coleman': 2364, 'Frank Rush': 2365, 'Mark Vasquez': 2366, 'Mr. Robert Young': 2367, 'Alicia Kelly': 2368, 'Kyle Long': 2369, 'Jennifer Scott': 2370, 'Ashley Bradford': 2371, 'Brian Jenkins': 2372, 'Kelly Davies': 2373, 'Rebecca Young': 2374, 'Aaron Taylor MD': 2375, 'Zachary Clements': 2376, 'Nancy Johnson': 2377, 'Donald Brown': 2378, 'Courtney Martin': 2379, 'Austin Diaz': 2380, 'Jeanette Lopez': 2381, 'Albert Terry': 2382, 'Jordan Mendoza': 2383, 'Stephanie Garrison': 2384, 'Keith Griffin': 2385, 'William Mckee': 2386, 'Lisa Morrison': 2387, 'Paul Miller': 2388, 'Keith Bryant': 2389, 'Alexis Hall': 2390, 'Nichole Harris MD': 2391, 'John Thomas': 2392, 'Wanda Hill': 2393, 'Christina Kent': 2394, 'Justin Davis': 2395, 'Ryan Brown': 2396, 'Tony Abbott': 2397, 'Calvin Tran': 2398, 'Gloria Lewis': 2399, 'Kevin Moon': 2400, 'Elizabeth Russell': 2401, 'Rachel West': 2402, 'Michael Daniels': 2403, 'Jennifer Goodman': 2404, 'Johnathan Krueger': 2405, 'Gary Mcneil': 2406, 'Justin Terry': 2407, 'Michael Brooks': 2408, 'Nicole Padilla': 2409, 'Mrs. Lisa Davis MD': 2410, 'Joanne Miller': 2411, 'Carlos Bates': 2412, 'Stephanie Frazier': 2413, 'William Walker': 2414, 'Jennifer Keith': 2415, 'Jennifer Alvarado': 2416, 'Peter Mitchell': 2417, 'Christina Mcclain': 2418, 'Curtis Cooper': 2419, 'Kristina Harris': 2420, 'David Barnes': 2421, 'Gregg Vasquez': 2422, 'Michele Reynolds': 2423, 'Jasmin Fitzpatrick': 2424, 'Albert Savage': 2425, 'Cynthia White': 2426, 'Ronald Gomez': 2427, 'Michael Ryan': 2428, 'Jessica Trujillo': 2429, 'Brittany Pierce': 2430, 'Stephanie Fritz': 2431, 'Dawn Green': 2432, 'Harry White': 2433, 'Laura Bowman': 2434, 'Randall Sanchez': 2435, 'Richard Montgomery': 2436, 'Frank Holt': 2437, 'Robert Wolfe': 2438, 'Nicholas Sanchez': 2439, 'Angela White': 2440, 'Jim Velazquez': 2441, 'Joseph Novak': 2442, 'John Lewis': 2443, 'Jonathon French': 2444, 'Grace Daniels': 2445, 'Paul Lynch': 2446, 'Tracy Wheeler': 2447, 'Michael Johnson': 2448, 'Felicia Miles': 2449, 'Jody Grant': 2450, 'Angela Moody': 2451, 'John Thompson': 2452, 'Jill Allen': 2453, 'Michele Brown': 2454, 'Sean Friedman': 2455, 'Keith Smith': 2456, 'Paul Farrell': 2457, 'Rachel Gill': 2458, 'Brian Wallace': 2459, 'Laura Bryant': 2460, 'Bryan Gray': 2461, 'Carla Benson': 2462, 'Nathan Peters': 2463, 'Karen Edwards': 2464, 'Joshua Riley': 2465, 'Cynthia Gilbert': 2466, 'Ralph Garcia': 2467, 'Raven Reyes': 2468, 'Lisa Frazier': 2469, 'Maria Castaneda': 2470, 'Erin Lyons': 2471, 'Terry Cruz': 2472, 'Dana Johnson': 2473, 'Sandra Mcgee': 2474, 'Leon Nguyen': 2475, 'Matthew Meadows': 2476, 'Joshua Mccarthy': 2477, 'Roy Dean': 2478, 'Ashley Ramirez': 2479, 'Autumn Graves': 2480, 'Cole Turner': 2481, 'Tammy King': 2482, 'Patricia Hall': 2483, 'Jason Banks Jr.': 2484, 'Brittany Torres': 2485, 'Ian Sullivan': 2486, 'Mrs. Pamela Pitts': 2487, 'Kimberly Brewer': 2488, 'Benjamin Torres': 2489, 'Joe Payne': 2490, 'Lee Hall': 2491, 'Miguel Ford': 2492, 'Diana Parker': 2493, 'Bradley Lee': 2494, 'Brian French': 2495, 'Lee Grant': 2496, 'Teresa Myers': 2497, 'Stephen Howard': 2498, 'Phillip Cardenas': 2499, 'Christine Weiss': 2500, 'Ronald Duran': 2501, 'Dr. Alvin Thomas': 2502, 'John Vaughn': 2503, 'Robert Gilmore': 2504, 'Antonio Alexander': 2505, 'John Leblanc': 2506, 'Stephanie Moreno': 2507, 'Joanna Jenkins': 2508, 'Sally Chung': 2509, 'Richard Lee': 2510, 'Ryan Navarro': 2511, 'Shawn Griffin': 2512, 'Roger Powers': 2513, 'Dakota Dixon': 2514, 'Eric Hoffman': 2515, 'Traci Villegas': 2516, 'Danielle Moore': 2517, 'Heather Rose': 2518, 'Tracy Graham': 2519, 'Christina Hall': 2520, 'Joyce Morgan': 2521, 'Barbara Johnson': 2522, 'Alexis Lewis': 2523, 'Kathleen Ferguson': 2524, 'James Jimenez DDS': 2525, 'Erin Nichols': 2526, 'Melissa May': 2527, 'Angela Ellis': 2528, 'Kelly Parker': 2529, 'Ruth Taylor': 2530, 'Jordan Franklin': 2531, 'Kevin Compton': 2532, 'Jessica Francis': 2533, 'Jeffrey Jackson': 2534, 'Jasmine Burton': 2535, 'Carol Wilson': 2536, 'Gregory Hickman': 2537, 'Luke Davis': 2538, 'Mr. Colin Cole': 2539, 'Michelle Mercer': 2540, 'Terry Davis': 2541, 'Emma Garcia': 2542, 'Don Jones': 2543, 'Jessica Day': 2544, 'Phyllis Guzman': 2545, 'Russell Brown': 2546, 'Sarah Clark': 2547, 'Jacob Tucker': 2548, 'Robert Howard': 2549, 'Angela Cervantes': 2550, 'Reginald Warren': 2551, 'Gregory Frazier': 2552, 'Rachael Morris': 2553, 'Heather Santos': 2554, 'James Mitchell': 2555, 'Austin Saunders': 2556, 'Catherine Jackson': 2557, 'Emily Wilson': 2558, 'Martin Martin': 2559, 'Jackie Day': 2560, 'Billy Douglas': 2561, 'Kyle Douglas': 2562, 'Erik Fletcher': 2563, 'Patrick Mitchell': 2564, 'Miranda Martinez': 2565, 'Dustin Fitzpatrick': 2566, 'Mindy Vincent': 2567, 'Charles Lloyd': 2568, 'Raymond Smith': 2569, 'Kim Guerrero': 2570, 'Joseph Nguyen': 2571, 'Steven Jordan': 2572, 'Kim Brooks': 2573, 'Brianna Tanner': 2574, 'Elizabeth Trevino': 2575, 'Jennifer Gillespie': 2576, 'Robert Pitts': 2577, 'Jacob Palmer': 2578, 'Roger Lee': 2579, 'Amy Swanson': 2580, 'Michael Baker': 2581, 'Nicolas Pena': 2582, 'Casey Edwards': 2583, 'Jeffrey Evans': 2584, 'Angela Beasley': 2585, 'Larry Galvan': 2586, 'Keith Navarro': 2587, 'Matthew Morgan': 2588, 'Sandra Alvarez': 2589, 'Hannah Jones': 2590, 'Oscar Santiago': 2591, 'Rachel Brock': 2592, 'Sean Stevens': 2593, 'Joshua Turner': 2594, 'Anna Kramer': 2595, 'Sharon Lewis': 2596, 'Ryan Garcia': 2597, 'Keith Jenkins': 2598, 'Dr. Gabriella Sherman': 2599, 'Diane Baker': 2600, 'Paul Mendoza': 2601, 'Nathan Whitney': 2602, 'Brianna Brown': 2603, 'Guy Elliott': 2604, 'Casey Johnson': 2605, 'Elizabeth Collins': 2606, 'Douglas Gallegos': 2607, 'Henry Owen': 2608, 'Sabrina Kemp': 2609, 'Angela Russell': 2610, 'Austin Guzman': 2611, 'Erin Bond': 2612, 'Hailey Reynolds': 2613, 'Paul Smith': 2614, 'Sara Hamilton': 2615, 'Barbara Anderson': 2616, 'Allison Hill': 2617, 'Jay Davis': 2618, 'Jessica Jacobson': 2619, 'Dr. Kathy Morales DVM': 2620, 'Christy Hendricks': 2621, 'James Lee': 2622, 'Matthew Estrada': 2623, 'Phyllis Murphy': 2624, 'Dustin Pruitt': 2625, 'Gregory Tate': 2626, 'Dana Luna': 2627, 'Michaela Todd': 2628, 'Katherine Hubbard': 2629, 'Hector Lee': 2630, 'Laura Jones MD': 2631, 'James Aguilar': 2632, 'Susan Robinson': 2633, 'William Monroe': 2634, 'Franklin Newman': 2635, 'James Wright': 2636, 'Michael Jones': 2637, 'Nathan Monroe': 2638, 'Robert Bailey': 2639, 'Dana Flores': 2640, 'Taylor Cowan': 2641, 'Frances Marquez': 2642, 'Nicholas Vargas': 2643, 'Sarah Nichols': 2644, 'Adam Evans': 2645, 'Eric Brooks': 2646, 'Justin Gomez': 2647, 'Austin Stevens': 2648, 'Abigail Matthews': 2649, 'Frank Barrett': 2650, 'Blake Merritt': 2651, 'Christian Parsons': 2652, 'Suzanne Harmon': 2653, 'Joseph Jones': 2654, 'Amanda Mcgee': 2655, 'Thomas Smith': 2656, 'Ross Lopez': 2657, 'Roger Ross': 2658, 'Marcus Bradley': 2659, 'Joshua Hopkins': 2660, 'Matthew Jackson': 2661, 'Scott Mccoy': 2662, 'Frank Webb': 2663, 'Mr. Mark Sanchez MD': 2664, 'Diana Snyder': 2665, 'Nicole Gomez': 2666, 'Kellie Le': 2667, 'Kathryn Garcia': 2668, 'Michael Hancock': 2669, 'Jose Taylor': 2670, 'Nicholas Guzman': 2671, 'Randy Walker': 2672, 'Richard Waters': 2673, 'Christopher Simmons': 2674, 'Dawn Jones': 2675, 'Brenda Martin': 2676, 'Brandon Guerrero': 2677, 'Morgan Lopez': 2678, 'Yvonne Wilson': 2679, 'Mark Mullins': 2680, 'Sarah Jackson': 2681, 'Theresa Allen': 2682, 'Courtney Jordan': 2683, 'Laura Ramirez': 2684, 'David Sutton': 2685, 'Maria Green': 2686, 'Colleen Reed': 2687, 'Joyce Moon': 2688, 'Alexis Anderson': 2689, 'Garrett Thomas': 2690, 'Jessica Preston': 2691, 'Mathew Cole': 2692, 'Timothy Ingram': 2693, 'Lucas Gonzales': 2694, 'Emma Reyes': 2695, 'Michelle Castro': 2696, 'Jennifer Gates': 2697, 'Morgan Duke': 2698, 'Patrick Myers': 2699, 'Susan Collins': 2700, 'Nancy Thomas': 2701, 'Heather Holmes': 2702, 'Ellen Thompson': 2703, 'Kimberly Tran': 2704, 'Scott Ramirez': 2705, 'Brianna Vincent': 2706, 'Darrell Ramos': 2707, 'Anthony Mahoney': 2708, 'Kristi Duncan': 2709, 'Shane Rodriguez': 2710, 'Gabrielle Kim': 2711, 'David Mitchell': 2712, 'Miss Michelle Smith': 2713, 'Janice Wang': 2714, 'Roger Farrell': 2715, 'Kara Cox': 2716, 'James King': 2717, 'Stephanie Marsh': 2718, 'Jacqueline Jones': 2719, 'Dustin Howell': 2720, 'Jordan Adams': 2721, 'Elizabeth Wright': 2722, 'Carl Arnold': 2723, 'William Mcgee': 2724, 'Darlene Park': 2725, 'Jessica Clark': 2726, 'Donald Morrison': 2727, 'John Brown DDS': 2728, 'Jonathan Warren': 2729, 'Natalie Gibbs': 2730, 'Allison Porter': 2731, 'Thomas Carrillo': 2732, 'Jessica Bauer': 2733, 'Jasmine Miller': 2734, 'Andrew Vaughn': 2735, 'Sarah Gonzalez MD': 2736, 'Carlos Adams': 2737, 'John Joseph': 2738, 'Sharon Campos': 2739, 'Jason Brown': 2740, 'Jonathan Holmes': 2741, 'Colleen Jones': 2742, 'Arthur Rivera': 2743, 'Breanna Lopez': 2744, 'Mark Hawkins': 2745, 'Juan Jordan': 2746, 'Nathan Juarez': 2747, 'Jennifer Porter': 2748, 'Christopher Williams': 2749, 'Andrew Perez': 2750, 'William Carter': 2751, 'James Watson': 2752, 'Sandra Sanders': 2753, 'Albert Scott': 2754, 'Jennifer Taylor': 2755, 'Erik Craig': 2756, 'Christina Baird': 2757, 'Brian Nelson': 2758, 'Rhonda Roberts': 2759, 'Candace Bradford': 2760, 'Abigail Hernandez': 2761, 'Gina Clark': 2762, 'Amy Wright': 2763, 'Patrick Robertson': 2764, 'Jordan Hines': 2765, 'Benjamin Brown': 2766, 'Nichole Baker PhD': 2767, 'Shannon Hicks': 2768, 'Joshua Gross': 2769, 'Jordan Dominguez': 2770, 'Joshua Hart': 2771, 'Tanya Holt': 2772, 'Crystal Hunt': 2773, 'Michelle Marks': 2774, 'Mark Gilmore': 2775, 'Jeremy Wolfe': 2776, 'Terri Mejia': 2777, 'Tracey Bradford': 2778, 'Jessica Lee': 2779, 'Kaitlin Myers': 2780, 'Jennifer Rice PhD': 2781, 'Ryan Mullins': 2782, 'Jacob Price': 2783, 'Steven Alexander': 2784, 'Mario Wells': 2785, 'Christopher Powers': 2786, 'Dr. Sarah Baker': 2787, 'Edward Townsend': 2788, 'Timothy Ward': 2789, 'Kim Bentley MD': 2790, 'Bryan Brewer': 2791, 'Edward Sherman': 2792, 'Dwayne Rodriguez': 2793, 'Mary Boone': 2794, 'Ariana Quinn': 2795, 'Kristen Baldwin': 2796, 'Jacob Marsh': 2797, 'Daniel Welch': 2798, 'Angel Huynh': 2799, 'Mary Rivers': 2800, 'Andrew Lewis': 2801, 'Jack Best': 2802, 'Gregory Tapia': 2803, 'Melissa Bryant': 2804, 'Dennis Stewart': 2805, 'Deborah Lewis': 2806, 'Teresa Walker': 2807, 'Shannon Myers': 2808, 'Anthony Miller': 2809, 'Bernard Johnson DVM': 2810, 'Allison Torres': 2811, 'James Jacobson': 2812, 'Carlos Larsen': 2813, 'Dr. Brady Rodgers': 2814, 'Laurie Nguyen': 2815, 'Scott Garcia': 2816, 'Kelly Little': 2817, 'Megan Barnett': 2818, 'Matthew Campbell': 2819, 'Patty Taylor': 2820, 'Elizabeth Williams': 2821, 'Stephanie Riley': 2822, 'Alexandra Delgado': 2823, 'Alison Williams': 2824, 'Zachary Coleman': 2825, 'Ruth Bradley': 2826, 'Wayne Whitaker': 2827, 'Angel Parker': 2828, 'Mario Johnson': 2829, 'Brian Schmidt': 2830, 'Tamara Robinson': 2831, 'Hannah Johnson': 2832, 'Mary Price': 2833, 'Tammy Allen': 2834, 'Kevin Wilson': 2835, 'Joshua Clark': 2836, 'Tracy Robinson': 2837, 'Gregory Lindsey': 2838, 'David Greene': 2839, 'Alicia Russell': 2840, 'Carrie Howard': 2841, 'Lisa Mclaughlin': 2842, 'Kimberly Martinez': 2843, 'Mrs. Brittney Conley DDS': 2844, 'Edward Stewart': 2845, 'Lisa Myers': 2846, 'Vanessa Berry': 2847, 'Michael Miles': 2848, 'Christine Schmidt': 2849, 'William Rodriguez': 2850, 'Austin Rodriguez': 2851, 'Stephanie Berry': 2852, 'Christopher White': 2853, 'Wendy Mathews': 2854, 'Brian Baker': 2855, 'Tony Mckinney': 2856, 'Sarah Morrison': 2857, 'James Mcdowell': 2858, 'Andrew Owens': 2859, 'Scott Long': 2860, 'Leonard Jordan': 2861, 'Derrick Olson': 2862, 'Ms. Erica King': 2863, 'Kimberly Chase': 2864, 'John Stone': 2865, 'David Moore': 2866, 'Ashley Webb': 2867, 'Amanda Sellers': 2868, 'Jared Chambers': 2869, 'Allison Park': 2870, 'Gregory Collins': 2871, 'Kaitlyn Cruz': 2872, 'Tiffany Snyder': 2873, 'Allison Brown': 2874, 'Tiffany Gay': 2875, 'Carrie Rhodes': 2876, 'Dawn Carroll': 2877, 'Belinda Delgado': 2878, 'Steven Perkins': 2879, 'Katherine Reyes': 2880, 'Sandra Wells': 2881, 'Kara Hebert': 2882, 'Christopher Brown': 2883, 'Claudia Williams': 2884, 'John Rodriguez': 2885, 'David Benson': 2886, 'John Mack PhD': 2887, 'Gloria Perkins': 2888, 'Mrs. Christine Mccann': 2889, 'Matthew Cook': 2890, 'Catherine Flores': 2891, 'Sara Miller': 2892, 'Dominique Hines': 2893, 'Mrs. Nicole Davis MD': 2894, 'Marco Navarro': 2895, 'Zachary Johnson': 2896, 'Isabel Moore': 2897, 'Barbara Booker': 2898, 'Michelle Rodriguez': 2899, 'John Jenkins': 2900, 'James Ward': 2901, 'Dawn Miller': 2902, 'Christine Cline': 2903, 'Allen Huang': 2904, 'Noah Scott': 2905, 'Stacy Simmons': 2906, 'Lee Small': 2907, 'Cody Dominguez': 2908, 'Lori Aguilar': 2909, 'Paul White': 2910, 'Kathleen Taylor': 2911, 'Craig Kaufman': 2912, 'Kenneth Young': 2913, 'Christina Baker': 2914, 'Judy Baker': 2915, 'James Robinson': 2916, 'Grace Walton': 2917, 'Regina Jones': 2918, 'Ashley Vasquez': 2919, 'Kyle Cortez': 2920, 'Kenneth Walker': 2921, 'Brian Newman': 2922, 'Regina Scott': 2923, 'Lauren Chavez': 2924, 'Jeremy Davis': 2925, 'Heather Powell': 2926, 'Mr. David Wilson': 2927, 'Jennifer Fitzgerald': 2928, 'Patricia Lutz': 2929, 'Joel Watson': 2930, 'Jodi Mcbride': 2931, 'Yolanda Gordon': 2932, 'Brian Hinton': 2933, 'Amy Beck': 2934, 'John English': 2935, 'Mrs. Sarah Smith': 2936, 'Chelsea Lester': 2937, 'Keith Booth': 2938, 'Joshua Bass': 2939, 'Joel Garcia': 2940, 'Shelly Adams': 2941, 'Deborah Yates': 2942, 'Steven Burgess': 2943, 'Kimberly Smith': 2944, 'Marissa Peterson': 2945, 'Jose Rollins': 2946, 'John Gonzalez DVM': 2947, 'Danielle Brown': 2948, 'James Allen': 2949, 'Joseph Ford': 2950, 'Marcus Elliott': 2951, 'Eileen Wright': 2952, 'Robert Hall': 2953, 'Jessica Martinez': 2954, 'Christine Williams': 2955, 'Travis Cunningham': 2956, 'Victoria Hess': 2957, 'Sherri Rubio': 2958, 'Crystal Allison': 2959, 'Vincent Williams': 2960, 'Mr. William Baker DDS': 2961, 'Edgar Howard': 2962, 'Mark Williams': 2963, 'Debra Chavez': 2964, 'Mark Allen': 2965, 'Heather Lang': 2966, 'Evan Jones DDS': 2967, 'John Gonzalez': 2968, 'Diane Mckinney': 2969, 'Heather Pearson': 2970, 'Christopher Harrington': 2971, 'Shannon Rich': 2972, 'Timothy Curry': 2973, 'Jorge Mcintosh': 2974, 'Benjamin Liu': 2975, 'Sheila Collins': 2976, 'Carol Brady': 2977, 'Joseph Moore': 2978, 'Glenn Logan': 2979, 'Jon Hayden': 2980, 'Kevin Hunt': 2981, 'Krista Walters': 2982, 'Evelyn Morgan': 2983, 'Wanda Salazar': 2984, 'Jimmy Harris': 2985, 'Matthew Saunders': 2986, 'Kylie Stewart': 2987, 'Kendra Brooks': 2988, 'David Stanley': 2989, 'Jeffery Hoffman': 2990, 'Beth Sosa': 2991, 'Yvette Reed': 2992, 'Christopher Ray': 2993, 'Jay Weber': 2994, 'Jesse Guzman': 2995, 'Marissa Wood': 2996, 'Edward Oliver': 2997, 'Gregory Rowe': 2998, 'Andrew Holland': 2999, 'Melissa Walls': 3000, 'Angelica Nolan': 3001, 'Abigail Cohen': 3002, 'Ann Mckinney': 3003, 'Phillip Olson': 3004, 'Jeremy Cooper': 3005, 'Mr. Michael Watson': 3006, 'Bethany Odonnell': 3007, 'Nicole Hill': 3008, 'Johnathan Harrison': 3009, 'Joshua Wilson': 3010, 'Tyrone Miranda': 3011, 'Alex Moore': 3012, 'Bryan Smith': 3013, 'Kenneth Stephens II': 3014, 'Sarah Edwards': 3015, 'Kimberly Flores': 3016, 'Justin Hudson': 3017, 'Kimberly Garza': 3018, 'Nicholas King': 3019, 'John Friedman': 3020, 'Beth Paul': 3021, 'Alan Perez': 3022, 'Renee Burgess': 3023, 'Derrick Hunt': 3024, 'David Goodman': 3025, 'Patricia Bell': 3026, 'Sara Morgan': 3027, 'Martha Mendoza': 3028, 'Emily Parker': 3029, 'Victoria Gregory': 3030, 'Jennifer Duncan': 3031, 'Suzanne Castillo': 3032, 'Erin Jones': 3033, 'Mary Wolf': 3034, 'Brandon Moss': 3035, 'Jennifer Weber': 3036, 'Adam Pierce': 3037, 'Steven Salinas': 3038, 'Carolyn Garcia': 3039, 'Jessica Carpenter': 3040, 'Kimberly Lopez': 3041, 'Jill Kelley': 3042, 'Kathleen Garcia': 3043, 'Matthew Carter': 3044, 'Cheyenne Jones': 3045, 'Judy Long': 3046, 'Andrew Dunn': 3047, 'Janet Mann': 3048, 'Ian White': 3049, 'John Freeman': 3050, 'Robert Johnson': 3051, 'Jacob Fuller': 3052, 'Joel Russell': 3053, 'Katie West': 3054, 'Michele Barker': 3055, 'Andrew King': 3056, 'Karen Preston': 3057, 'Stephanie Winters': 3058, 'Laurie Rivera': 3059, 'Richard Harper': 3060, 'Barbara Hahn': 3061, 'Joseph Butler': 3062, 'Elizabeth Guerra': 3063, 'Amy Wade': 3064, 'Glen Gomez': 3065, 'Tasha Vazquez': 3066, 'Ms. Laura Vargas': 3067, 'Kathryn Cabrera': 3068, 'James Ewing': 3069, 'John Hall': 3070, 'Jordan Jarvis': 3071, 'Jennifer Hall': 3072, 'Mallory Shah': 3073, 'Gregory Williams': 3074, 'Laurie Matthews': 3075, 'Tina Smith': 3076, 'John Boyer': 3077, 'Jose Rogers': 3078, 'Tammy Taylor': 3079, 'Mark Williamson': 3080, 'Michael Edwards': 3081, 'Sandra Watson': 3082, 'Megan Payne': 3083, 'Gary Herrera': 3084, 'Hayden Stone': 3085, 'Gregory Campos': 3086, 'Angela Hernandez': 3087, 'Christopher Good': 3088, 'Christopher Mcneil': 3089, 'Brian Mullins': 3090, 'Christopher Thompson': 3091, 'Erin Rowland': 3092, 'James James': 3093, 'Brittany Nguyen': 3094, 'Brian Rodriguez': 3095, 'Joan Stafford': 3096, 'Karen Davis': 3097, 'Ryan Freeman': 3098, 'Dr. Lee Potter': 3099, 'Matthew Fox': 3100, 'William Johnson': 3101, 'Tammy Santos': 3102, 'Donna Skinner': 3103, 'Brian Jones': 3104, 'Anthony Mejia': 3105, 'Daniel Gallegos': 3106, 'Troy Howard': 3107, 'David Murillo': 3108, 'Emily Alvarez': 3109, 'Mr. Christopher Hamilton': 3110, 'Michele Grant': 3111, 'Alex Dixon': 3112, 'Gabriella Riggs': 3113, 'Mrs. Cynthia Hickman': 3114, 'James Rosales': 3115, 'Glenn Phillips': 3116, 'Kristin Morgan': 3117, 'Edward Norman': 3118, 'Aaron Joyce': 3119, 'Amy Butler': 3120, 'Thomas Taylor': 3121, 'Michael Thompson': 3122, 'Sandra Sanchez': 3123, 'Brenda Walton': 3124, 'Melanie Briggs': 3125, 'Matthew Ray': 3126, 'Rebecca Gomez': 3127, 'Anthony Yoder': 3128, 'David Frank': 3129, 'Stephanie Lynch': 3130, 'Brent Atkinson': 3131, 'Vanessa Harris': 3132, 'Melissa Lawrence': 3133, 'Christopher Cortez': 3134, 'Luke Woods': 3135, 'Crystal Leonard': 3136, 'Norma Jones': 3137, 'April Byrd': 3138, 'Tammy Stephens': 3139, 'Richard Sims': 3140, 'Adam Griffin': 3141, 'Brian Mason': 3142, 'Michael Miller': 3143, 'Lauren Shah': 3144, 'Maria Nelson': 3145, 'Samantha Gonzalez': 3146, 'Stephanie Haas': 3147, 'Emily Prince': 3148, 'Gabriela Wright': 3149, 'Scott Craig': 3150, 'Marie Palmer': 3151, 'Jeanette Bryan': 3152, 'Paul Kaiser': 3153, 'Christopher Hoffman': 3154, 'Gregory Anderson': 3155, 'Dr. Shannon Davis': 3156, 'Kevin Acosta': 3157, 'Jamie Carroll': 3158, 'Jesus Green': 3159, 'Casey Garcia': 3160, 'Tasha Barrett': 3161, 'Michelle Adams': 3162, 'Brad Walker': 3163, 'Christian Russo': 3164, 'Matthew Wright': 3165, 'Gregory Johnson': 3166, 'Christine Smith': 3167, 'Anna Brady': 3168, 'Martin Jones': 3169, 'Jay Spencer': 3170, 'Julie Nelson': 3171, 'Lee Wagner': 3172, 'Kyle Johnson': 3173, 'Brenda Barrera': 3174, 'Ronald Burns': 3175, 'Chad Smith': 3176, 'Linda Butler': 3177, 'Laura Hess': 3178, 'Thomas Jensen': 3179, 'Ashley Mccarthy': 3180, 'Michael Hubbard': 3181, 'Rebecca Wagner': 3182, 'Daniel Adams': 3183, 'Sarah Anthony': 3184, 'Teresa Sanders': 3185, 'Carla Armstrong': 3186, 'David Huynh': 3187, 'Danielle Levy': 3188, 'Brandon Lindsey': 3189, 'Pamela Stewart': 3190, 'Victor Hernandez': 3191, 'Jon Holloway': 3192, 'John Simpson': 3193, 'James Lane': 3194, 'Amy Mccoy': 3195, 'Timothy Taylor': 3196, 'Brandy Petty': 3197, 'Robert Cohen': 3198, 'Jeremy Shea': 3199, 'Bryce Spencer': 3200, 'Mr. Mark Porter MD': 3201, 'Lisa Crosby': 3202, 'Amanda Anderson': 3203, 'Connie Griffin': 3204, 'Laura Myers': 3205, 'Barry Weiss Jr.': 3206, 'Samantha Fleming': 3207, 'Nancy Olson': 3208, 'Richard Ingram': 3209, 'Victoria Garcia': 3210, 'Jamie Singh': 3211, 'Ralph Robbins': 3212, 'Ian David': 3213, 'Donald Gross': 3214, 'Jordan Carson': 3215, 'Gwendolyn Larson': 3216, 'Erik Pineda': 3217, 'Michael Mullen': 3218, 'Joel Martin': 3219, 'Brian Gutierrez': 3220, 'Christopher Cook': 3221, 'Alisha House': 3222, 'Peter Taylor': 3223, 'Ricardo Gonzalez': 3224, 'Miguel Davis': 3225, 'Richard Watkins': 3226, 'Willie Tyler': 3227, 'Timothy Carpenter': 3228, 'Summer Gutierrez': 3229, 'Jessica Brown': 3230, 'Ronald Thomas': 3231, 'Brian Martin': 3232, 'Roy Barnes': 3233, 'Eric Spence': 3234, 'Jason Avila': 3235, 'Stephen Wallace': 3236, 'Tim Johnston': 3237, 'Christopher Morris': 3238, 'Elizabeth Rogers': 3239, 'Kathy Bishop': 3240, 'Darrell Davis': 3241, 'Robert Lara': 3242, 'Kelly Ward': 3243, 'David Rodriguez MD': 3244, 'Loretta Mcmillan': 3245, 'Richard Sanders': 3246, 'Sharon Brock': 3247, 'Julie Williams': 3248, 'Steven Thompson': 3249, 'Tiffany Hawkins': 3250, 'Holly Garcia': 3251, 'Jessica Foster': 3252, 'Michael Kane': 3253, 'Sandra Phillips MD': 3254, 'Shane Powers': 3255, 'Lisa Oneill': 3256, 'Christopher Cain': 3257, 'Ian Jackson': 3258, 'Walter Atkinson': 3259, 'John Nunez': 3260, 'Angela Frost': 3261, 'Jay Hernandez': 3262, 'Dr. Misty Miller MD': 3263, 'Jessica Smith': 3264, 'Diane Simmons': 3265, 'Elizabeth Mckinney': 3266, 'Breanna Simon': 3267, 'Michael Sutton': 3268, 'Juan Griffin': 3269, 'Deborah Moss': 3270, 'Christopher Krueger': 3271, 'Amy Sawyer': 3272, 'Edward Santiago': 3273, 'Angela Becker': 3274, 'Anna Carter': 3275, 'James Ayala': 3276}\n"
          ]
        }
      ]
    },
    {
      "cell_type": "code",
      "source": [
        "def preprocess(a):\n",
        "  a.drop(columns = 'Description', inplace = True)\n",
        "  a['Vendor_Name'] = a['Vendor_Name'].map(f_map)\n",
        "  a['Created'] = pd.to_datetime(a['Created'])\n",
        "  a['Created_date'] = a['Created'].dt.date\n",
        "  a['Created_time'] = a['Created'].dt.time\n",
        "  a['Invoice_Date'] = pd.to_datetime(a['Invoice_Date'])\n",
        "  a['Due_Date'] = pd.to_datetime(a['Due_Date'])\n",
        "  a.drop(columns = 'Created', inplace = True)\n",
        "  a['Created_date'] = pd.to_datetime(a['Created_date'])\n",
        "  a['Created_time'] = pd.to_datetime(a['Created_time'].astype(str))\n",
        "  a['Created_year'] = a['Created_date'].dt.year\n",
        "  a['Created_month'] = a['Created_date'].dt.month\n",
        "  a['Invoice_year'] = a['Invoice_Date'].dt.year\n",
        "  a['Invoice_month'] = a['Invoice_Date'].dt.month\n",
        "  a['Due_year'] = a['Due_Date'].dt.year\n",
        "  a['Due_month'] = a['Due_Date'].dt.month\n",
        "  a['Created_day'] = a['Created_date'].dt.day_of_week\n",
        "  a['Invoice_day'] = a['Invoice_Date'].dt.day_of_week\n",
        "  a['Due_day'] = a['Due_Date'].dt.day_of_week\n",
        "  a['Created_hour'] = a['Created_time'].dt.hour\n",
        "  a['Created_minutes'] = a['Created_time'].dt.minute\n",
        "  a['InvDueDiff']=(a['Invoice_Date']-a['Due_Date']).dt.days\n",
        "  a['DueCreaDiff']=(a['Due_Date']-a['Created_date']).dt.days\n",
        "  a['InvDueDiff']=(a['Created_date']-a['Invoice_Date']).dt.days\n",
        "  a.drop(columns = ['Created_date', 'Invoice_Date', 'Due_Date', 'Created_time'], inplace = True)\n",
        "  a = a.astype(float)\n",
        "  return a"
      ],
      "metadata": {
        "id": "mBb45Mps3d7b"
      },
      "execution_count": null,
      "outputs": []
    },
    {
      "cell_type": "code",
      "source": [
        "# data['Vendor_Name'] = data['Vendor_Name'].map(f_map)\n",
        "# datatest['Vendor_Name'] = datatest['Vendor_Name'].map(f_map)"
      ],
      "metadata": {
        "id": "RonMjFLzlGlv"
      },
      "execution_count": null,
      "outputs": []
    },
    {
      "cell_type": "code",
      "source": [
        "#data['Created'] = pd.to_datetime(data['Created'])"
      ],
      "metadata": {
        "id": "RRykc4cJmBRs"
      },
      "execution_count": null,
      "outputs": []
    },
    {
      "cell_type": "code",
      "source": [
        "#data['Created_date'] = data['Created'].dt.date"
      ],
      "metadata": {
        "id": "FaPZSfFvnS4V"
      },
      "execution_count": null,
      "outputs": []
    },
    {
      "cell_type": "code",
      "source": [
        "#data['Created_time'] = data['Created'].dt.time"
      ],
      "metadata": {
        "id": "QD1I6gZDqQEw"
      },
      "execution_count": null,
      "outputs": []
    },
    {
      "cell_type": "code",
      "source": [
        "#data['Invoice_Date'] = pd.to_datetime(data['Invoice_Date'])"
      ],
      "metadata": {
        "id": "Sb0M7aA6qboR"
      },
      "execution_count": null,
      "outputs": []
    },
    {
      "cell_type": "code",
      "source": [
        "#data['Due_Date'] = pd.to_datetime(data['Due_Date'])"
      ],
      "metadata": {
        "id": "UVPgRNSLqhn4"
      },
      "execution_count": null,
      "outputs": []
    },
    {
      "cell_type": "code",
      "source": [
        "#data.drop(columns = 'Created', inplace = True)"
      ],
      "metadata": {
        "id": "O3OpcHsMqip8"
      },
      "execution_count": null,
      "outputs": []
    },
    {
      "cell_type": "code",
      "source": [
        "# data['Created_date'] = pd.to_datetime(data['Created_date'])\n",
        "# data['Created_time'] = pd.to_datetime(data['Created_time'].astype(str))\n",
        "# data['Created_year'] = data['Created_date'].dt.year\n",
        "# data['Created_month'] = data['Created_date'].dt.month\n",
        "# data['Invoice_year'] = data['Invoice_Date'].dt.year\n",
        "# data['Invoice_month'] = data['Invoice_Date'].dt.month\n",
        "# data['Due_year'] = data['Due_Date'].dt.year\n",
        "# data['Due_month'] = data['Due_Date'].dt.month\n",
        "# data['Created_day'] = data['Created_date'].dt.day_of_week\n",
        "# data['Invoice_day'] = data['Invoice_Date'].dt.day_of_week\n",
        "# data['Due_day'] = data['Due_Date'].dt.day_of_week\n",
        "# data['Created_hour'] = data['Created_time'].dt.hour\n",
        "# data['Created_minutes'] = data['Created_time'].dt.minute\n",
        "# data.drop(columns = ['Created_date', 'Invoice_Date', 'Due_Date', 'Created_time'], inplace = True)"
      ],
      "metadata": {
        "id": "YcDaQHKErdEe"
      },
      "execution_count": null,
      "outputs": []
    },
    {
      "cell_type": "code",
      "source": [
        "#data = data.astype(float)"
      ],
      "metadata": {
        "id": "FPaT3VpgtLIN"
      },
      "execution_count": null,
      "outputs": []
    },
    {
      "cell_type": "code",
      "source": [
        "data = preprocess(data)\n",
        "ID=datatest['Vendor_Name'].astype(str)\n",
        "datatest = preprocess(datatest)"
      ],
      "metadata": {
        "id": "7pwa_Dfwv0pk"
      },
      "execution_count": null,
      "outputs": []
    },
    {
      "cell_type": "code",
      "source": [
        "data.shape"
      ],
      "metadata": {
        "colab": {
          "base_uri": "https://localhost:8080/"
        },
        "id": "Vbi6eoNY4snw",
        "outputId": "7f34f592-f69c-4f13-f7b4-766859610ecd"
      },
      "execution_count": null,
      "outputs": [
        {
          "output_type": "execute_result",
          "data": {
            "text/plain": [
              "(8753, 18)"
            ]
          },
          "metadata": {},
          "execution_count": 13
        }
      ]
    },
    {
      "cell_type": "code",
      "source": [
        "Y = data['Number_of_Days_until_Payment']\n",
        "X = data.drop(columns = 'Number_of_Days_until_Payment')\n",
        "\n",
        "\n",
        "X_final =  datatest"
      ],
      "metadata": {
        "id": "-cboKiSz4vtk"
      },
      "execution_count": null,
      "outputs": []
    },
    {
      "cell_type": "code",
      "source": [
        "Y"
      ],
      "metadata": {
        "colab": {
          "base_uri": "https://localhost:8080/"
        },
        "id": "dm_VSZ6w85b5",
        "outputId": "93042ed9-0bfb-49b6-d6fe-9b614db8c871"
      },
      "execution_count": null,
      "outputs": [
        {
          "output_type": "execute_result",
          "data": {
            "text/plain": [
              "0       13.0\n",
              "1       38.0\n",
              "2       61.0\n",
              "3       62.0\n",
              "4        2.0\n",
              "        ... \n",
              "8748    34.0\n",
              "8749    34.0\n",
              "8750     5.0\n",
              "8751    10.0\n",
              "8752     1.0\n",
              "Name: Number_of_Days_until_Payment, Length: 8753, dtype: float64"
            ]
          },
          "metadata": {},
          "execution_count": 15
        }
      ]
    },
    {
      "cell_type": "code",
      "source": [
        "def getDataframe(ID, pred):\n",
        "    sub=pd.DataFrame([ID, pred])\n",
        "    sub=sub.transpose()\n",
        "    sub.columns=['Vendor_Name', 'Number_of_Days_until_Payment']\n",
        "    sub['Vendor_Name']=sub['Vendor_Name'].astype(str)\n",
        "    sub.to_csv('Data warriors(mausam_03).csv', index=False)\n",
        "    \n",
        "    \n",
        "    return sub"
      ],
      "metadata": {
        "id": "pWr01kJG7dQY"
      },
      "execution_count": null,
      "outputs": []
    },
    {
      "cell_type": "code",
      "source": [
        "from sklearn.model_selection import train_test_split"
      ],
      "metadata": {
        "id": "ZL4NhOoW5PBW"
      },
      "execution_count": null,
      "outputs": []
    },
    {
      "cell_type": "code",
      "source": [
        "X_train, X_test, Y_train, Y_test = train_test_split(X, Y, test_size = 0.2)"
      ],
      "metadata": {
        "id": "DjL6O3Tl5Tqw"
      },
      "execution_count": null,
      "outputs": []
    },
    {
      "cell_type": "code",
      "source": [
        "\n",
        "from sklearn.ensemble import GradientBoostingRegressor\n",
        "from sklearn.preprocessing import StandardScaler\n",
        "\n",
        "sc = StandardScaler()\n",
        "X_train_std = sc.fit_transform(X_train)\n",
        "X_test_std = sc.transform(X_test)\n",
        "\n",
        "gbr_params = {'n_estimators': 4200,\n",
        "          'max_depth': 8,\n",
        "          'min_samples_split': 5,\n",
        "          'learning_rate': 0.02,\n",
        "          'loss': 'ls'}\n",
        "\n",
        "gbr = GradientBoostingRegressor(**gbr_params)\n",
        "gbr.fit(X_train_std, Y_train)\n",
        "\n",
        "print(gbr.score(X_test_std, Y_test))\n",
        "X_std=sc.transform(X_final)\n",
        "pred=gbr.predict(X_std)\n",
        "\n",
        "\n",
        "\n"
      ],
      "metadata": {
        "colab": {
          "base_uri": "https://localhost:8080/"
        },
        "id": "wIqFET0N5dho",
        "outputId": "85d46d8a-0579-479d-e25f-08e6e89747dc"
      },
      "execution_count": null,
      "outputs": [
        {
          "output_type": "stream",
          "name": "stderr",
          "text": [
            "/usr/local/lib/python3.7/dist-packages/sklearn/ensemble/_gb.py:290: FutureWarning: The loss 'ls' was deprecated in v1.0 and will be removed in version 1.2. Use 'squared_error' which is equivalent.\n",
            "  FutureWarning,\n"
          ]
        },
        {
          "output_type": "stream",
          "name": "stdout",
          "text": [
            "0.29013623743645967\n"
          ]
        }
      ]
    },
    {
      "cell_type": "code",
      "source": [
        "print(getDataframe(ID, pred))"
      ],
      "metadata": {
        "colab": {
          "base_uri": "https://localhost:8080/"
        },
        "id": "OT8pV2Vj_7F8",
        "outputId": "1888c5a2-1646-4346-ea0d-df72b3ea1802"
      },
      "execution_count": null,
      "outputs": [
        {
          "output_type": "stream",
          "name": "stdout",
          "text": [
            "            Vendor_Name Number_of_Days_until_Payment\n",
            "0         Aaron Hoffman                    10.793499\n",
            "1          Aaron Murphy                     53.86661\n",
            "2           Aaron Parks                    44.984239\n",
            "3          Aaron Thomas                    42.463512\n",
            "4     Abigail Hernandez                    29.397242\n",
            "...                 ...                          ...\n",
            "1120    Zachary Coleman                    31.858396\n",
            "1121     Zachary Dudley                    31.665971\n",
            "1122  Zachary Hernandez                    46.207591\n",
            "1123    Zachary Simmons                    38.403344\n",
            "1124   Zachary Williams                    45.205628\n",
            "\n",
            "[1125 rows x 2 columns]\n"
          ]
        }
      ]
    },
    {
      "cell_type": "code",
      "source": [
        "getDataframe(ID, pred).set_index('Vendor_Name').to_csv('sub_mtap_test.csv')"
      ],
      "metadata": {
        "id": "cNxvk_RKFS67"
      },
      "execution_count": null,
      "outputs": []
    },
    {
      "cell_type": "code",
      "source": [
        "import xgboost as xgb\n",
        "from sklearn.metrics import mean_squared_error\n",
        "import pandas as pd\n",
        "import numpy as np\n",
        "from sklearn.preprocessing import StandardScaler\n",
        "\n",
        "sc = StandardScaler()"
      ],
      "metadata": {
        "id": "wQ7LU7rS29tJ"
      },
      "execution_count": null,
      "outputs": []
    },
    {
      "cell_type": "code",
      "source": [
        "X_train_std = sc.fit_transform(X_train)\n",
        "X_test_std = sc.transform(X_test)\n",
        "data_dmatrix = xgb.DMatrix(data=X_train_std,label=Y_train)\n",
        "\n"
      ],
      "metadata": {
        "id": "WoaNGdyj3W7T"
      },
      "execution_count": null,
      "outputs": []
    },
    {
      "cell_type": "code",
      "source": [
        "xg_reg = xgb.XGBRegressor(objective ='reg:linear', colsample_bytree = 0.3, learning_rate = 0.1,\n",
        "                max_depth = 5, alpha = 10, n_estimators = 10)"
      ],
      "metadata": {
        "id": "reEHyPo039ZM"
      },
      "execution_count": null,
      "outputs": []
    },
    {
      "cell_type": "code",
      "source": [
        "xg_reg.fit(X_train_std,Y_train)\n",
        "\n",
        "preds = xg_reg.predict(X_test_std)\n"
      ],
      "metadata": {
        "colab": {
          "base_uri": "https://localhost:8080/"
        },
        "id": "ZXfNNz4l4IXw",
        "outputId": "3d633a17-d93b-480a-aac6-9a3fa2dcb012"
      },
      "execution_count": null,
      "outputs": [
        {
          "output_type": "stream",
          "name": "stdout",
          "text": [
            "[19:40:24] WARNING: /workspace/src/objective/regression_obj.cu:152: reg:linear is now deprecated in favor of reg:squarederror.\n"
          ]
        }
      ]
    },
    {
      "cell_type": "code",
      "source": [
        "rmse = np.sqrt(mean_squared_error(Y_test, preds))\n",
        "print(\"RMSE: %f\" % (rmse))"
      ],
      "metadata": {
        "colab": {
          "base_uri": "https://localhost:8080/"
        },
        "id": "kVyF8vGF4VF3",
        "outputId": "c7c7d7c8-aa57-4cb5-a75a-f893b0a4735e"
      },
      "execution_count": null,
      "outputs": [
        {
          "output_type": "stream",
          "name": "stdout",
          "text": [
            "RMSE: 30.403408\n"
          ]
        }
      ]
    },
    {
      "cell_type": "code",
      "source": [
        "X_std=sc.transform(X_final)\n",
        "pred= xg_reg.predict(X_std)\n",
        "#print(getDataframe(ID, pred))"
      ],
      "metadata": {
        "id": "_rBbSR9n4wy8"
      },
      "execution_count": null,
      "outputs": []
    }
  ]
}